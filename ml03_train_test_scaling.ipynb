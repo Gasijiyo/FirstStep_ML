{
  "nbformat": 4,
  "nbformat_minor": 0,
  "metadata": {
    "colab": {
      "name": "ml03_train_test_scaling.ipynb",
      "provenance": [],
      "collapsed_sections": [],
      "toc_visible": true,
      "authorship_tag": "ABX9TyOIyvySts5ukdhhHP9cxz3J",
      "include_colab_link": true
    },
    "kernelspec": {
      "name": "python3",
      "display_name": "Python 3"
    },
    "language_info": {
      "name": "python"
    }
  },
  "cells": [
    {
      "cell_type": "markdown",
      "metadata": {
        "id": "view-in-github",
        "colab_type": "text"
      },
      "source": [
        "<a href=\"https://colab.research.google.com/github/Gasijiyo/FirstStep_ML/blob/master/ml03_train_test_scaling.ipynb\" target=\"_parent\"><img src=\"https://colab.research.google.com/assets/colab-badge.svg\" alt=\"Open In Colab\"/></a>"
      ]
    },
    {
      "cell_type": "markdown",
      "source": [
        "* 머신 러닝의 과정\n",
        "    * 문제 정의 --> 데이터 준비 --> 데이터 탐색 --> 훈련 셋, 검증 셋, 테스트 셋 분리 --> 모델 선택, 훈련 --> 모델 평가 --> 모델 튜닝 \n",
        "* 훈련 셋, 검증 셋, 테스트 셋으로 나누는 방법\n",
        "    * 순차 추출(sequential sampling)\n",
        "    * 임의 추출(random sampling)\n",
        "    * 층화 추출(stratified sampling) \n",
        "* 분류 모델 평가 지표\n",
        "    * 정확도(accuracy)\n",
        "    * 정밀도(precision)\n",
        "    * 재현율(recall)\n",
        "    * F1-score \n",
        "    * 민감도 (sensitivity)\n",
        "    * 특이도 ()\n",
        "* 특성 스케일링\n",
        "    * 표준화 (standardization)\n",
        "    * 정규화 (normalization)   \n",
        "\n"
      ],
      "metadata": {
        "id": "u4UL8-FN4fDJ"
      }
    },
    {
      "cell_type": "markdown",
      "source": [
        "# 필요한 모듈, 클래스, 함수들 import"
      ],
      "metadata": {
        "id": "5RKI9YR_-CxZ"
      }
    },
    {
      "cell_type": "code",
      "execution_count": 1,
      "metadata": {
        "id": "kMAizY5s4bLv"
      },
      "outputs": [],
      "source": [
        "import numpy as np  # ndarray(배열) 함수, 메소드\n",
        "import pandas as pd # Series, DataFrame 함수, 메소드\n",
        "import matplotlib.pyplot as plt # 시각화\n",
        "import seaborn as sns   # 시각화\n",
        "\n",
        "# Machine Learning \n",
        "# 머신러닝 모델(알고리즘) - KNN 분류기\n",
        "from sklearn.neighbors import KNeighborsClassifier \n",
        "# 훈련 / 테스트 셋 분리 함수\n",
        "from sklearn.model_selection import train_test_split\n",
        "# 모델 평가 지표 함수\n",
        "from sklearn.metrics import confusion_matrix, classification_report\n",
        "from sklearn.metrics import accuracy_score, precision_score, recall_score, f1_score\n",
        "# 특성 스케일링\n",
        "from sklearn.preprocessing import StandardScaler, MinMaxScaler"
      ]
    },
    {
      "cell_type": "markdown",
      "source": [
        "# 데이터 준비\n",
        "\n",
        "* fish.csv 파일: 어종, 특성들 (무게, 길이, ...)\n",
        "* 2진 분류 (도미, 빙어)\n",
        "* 특성 2개(무게, 길이)만 사용"
      ],
      "metadata": {
        "id": "zXqji2sGA7kQ"
      }
    },
    {
      "cell_type": "code",
      "source": [
        "fish_csv = 'https://github.com/JakeOh/202110_itw_lab_python/raw/main/fish.csv'"
      ],
      "metadata": {
        "id": "0EyIHxolA9Gw"
      },
      "execution_count": 2,
      "outputs": []
    },
    {
      "cell_type": "code",
      "source": [
        "fish = pd.read_csv(fish_csv)"
      ],
      "metadata": {
        "id": "4wULk8OsEg1l"
      },
      "execution_count": 3,
      "outputs": []
    },
    {
      "cell_type": "code",
      "source": [
        "fish.head()"
      ],
      "metadata": {
        "colab": {
          "base_uri": "https://localhost:8080/",
          "height": 206
        },
        "id": "QduKdUB_Em9U",
        "outputId": "3f4d6b9e-1d54-42b7-e1ab-8ee0e076d577"
      },
      "execution_count": 4,
      "outputs": [
        {
          "output_type": "execute_result",
          "data": {
            "text/plain": [
              "  Species  Weight  Length  Diagonal   Height   Width\n",
              "0   Bream   242.0    25.4      30.0  11.5200  4.0200\n",
              "1   Bream   290.0    26.3      31.2  12.4800  4.3056\n",
              "2   Bream   340.0    26.5      31.1  12.3778  4.6961\n",
              "3   Bream   363.0    29.0      33.5  12.7300  4.4555\n",
              "4   Bream   430.0    29.0      34.0  12.4440  5.1340"
            ],
            "text/html": [
              "\n",
              "  <div id=\"df-e9cef2a0-f4c7-4c09-b55a-167f3d370b5f\">\n",
              "    <div class=\"colab-df-container\">\n",
              "      <div>\n",
              "<style scoped>\n",
              "    .dataframe tbody tr th:only-of-type {\n",
              "        vertical-align: middle;\n",
              "    }\n",
              "\n",
              "    .dataframe tbody tr th {\n",
              "        vertical-align: top;\n",
              "    }\n",
              "\n",
              "    .dataframe thead th {\n",
              "        text-align: right;\n",
              "    }\n",
              "</style>\n",
              "<table border=\"1\" class=\"dataframe\">\n",
              "  <thead>\n",
              "    <tr style=\"text-align: right;\">\n",
              "      <th></th>\n",
              "      <th>Species</th>\n",
              "      <th>Weight</th>\n",
              "      <th>Length</th>\n",
              "      <th>Diagonal</th>\n",
              "      <th>Height</th>\n",
              "      <th>Width</th>\n",
              "    </tr>\n",
              "  </thead>\n",
              "  <tbody>\n",
              "    <tr>\n",
              "      <th>0</th>\n",
              "      <td>Bream</td>\n",
              "      <td>242.0</td>\n",
              "      <td>25.4</td>\n",
              "      <td>30.0</td>\n",
              "      <td>11.5200</td>\n",
              "      <td>4.0200</td>\n",
              "    </tr>\n",
              "    <tr>\n",
              "      <th>1</th>\n",
              "      <td>Bream</td>\n",
              "      <td>290.0</td>\n",
              "      <td>26.3</td>\n",
              "      <td>31.2</td>\n",
              "      <td>12.4800</td>\n",
              "      <td>4.3056</td>\n",
              "    </tr>\n",
              "    <tr>\n",
              "      <th>2</th>\n",
              "      <td>Bream</td>\n",
              "      <td>340.0</td>\n",
              "      <td>26.5</td>\n",
              "      <td>31.1</td>\n",
              "      <td>12.3778</td>\n",
              "      <td>4.6961</td>\n",
              "    </tr>\n",
              "    <tr>\n",
              "      <th>3</th>\n",
              "      <td>Bream</td>\n",
              "      <td>363.0</td>\n",
              "      <td>29.0</td>\n",
              "      <td>33.5</td>\n",
              "      <td>12.7300</td>\n",
              "      <td>4.4555</td>\n",
              "    </tr>\n",
              "    <tr>\n",
              "      <th>4</th>\n",
              "      <td>Bream</td>\n",
              "      <td>430.0</td>\n",
              "      <td>29.0</td>\n",
              "      <td>34.0</td>\n",
              "      <td>12.4440</td>\n",
              "      <td>5.1340</td>\n",
              "    </tr>\n",
              "  </tbody>\n",
              "</table>\n",
              "</div>\n",
              "      <button class=\"colab-df-convert\" onclick=\"convertToInteractive('df-e9cef2a0-f4c7-4c09-b55a-167f3d370b5f')\"\n",
              "              title=\"Convert this dataframe to an interactive table.\"\n",
              "              style=\"display:none;\">\n",
              "        \n",
              "  <svg xmlns=\"http://www.w3.org/2000/svg\" height=\"24px\"viewBox=\"0 0 24 24\"\n",
              "       width=\"24px\">\n",
              "    <path d=\"M0 0h24v24H0V0z\" fill=\"none\"/>\n",
              "    <path d=\"M18.56 5.44l.94 2.06.94-2.06 2.06-.94-2.06-.94-.94-2.06-.94 2.06-2.06.94zm-11 1L8.5 8.5l.94-2.06 2.06-.94-2.06-.94L8.5 2.5l-.94 2.06-2.06.94zm10 10l.94 2.06.94-2.06 2.06-.94-2.06-.94-.94-2.06-.94 2.06-2.06.94z\"/><path d=\"M17.41 7.96l-1.37-1.37c-.4-.4-.92-.59-1.43-.59-.52 0-1.04.2-1.43.59L10.3 9.45l-7.72 7.72c-.78.78-.78 2.05 0 2.83L4 21.41c.39.39.9.59 1.41.59.51 0 1.02-.2 1.41-.59l7.78-7.78 2.81-2.81c.8-.78.8-2.07 0-2.86zM5.41 20L4 18.59l7.72-7.72 1.47 1.35L5.41 20z\"/>\n",
              "  </svg>\n",
              "      </button>\n",
              "      \n",
              "  <style>\n",
              "    .colab-df-container {\n",
              "      display:flex;\n",
              "      flex-wrap:wrap;\n",
              "      gap: 12px;\n",
              "    }\n",
              "\n",
              "    .colab-df-convert {\n",
              "      background-color: #E8F0FE;\n",
              "      border: none;\n",
              "      border-radius: 50%;\n",
              "      cursor: pointer;\n",
              "      display: none;\n",
              "      fill: #1967D2;\n",
              "      height: 32px;\n",
              "      padding: 0 0 0 0;\n",
              "      width: 32px;\n",
              "    }\n",
              "\n",
              "    .colab-df-convert:hover {\n",
              "      background-color: #E2EBFA;\n",
              "      box-shadow: 0px 1px 2px rgba(60, 64, 67, 0.3), 0px 1px 3px 1px rgba(60, 64, 67, 0.15);\n",
              "      fill: #174EA6;\n",
              "    }\n",
              "\n",
              "    [theme=dark] .colab-df-convert {\n",
              "      background-color: #3B4455;\n",
              "      fill: #D2E3FC;\n",
              "    }\n",
              "\n",
              "    [theme=dark] .colab-df-convert:hover {\n",
              "      background-color: #434B5C;\n",
              "      box-shadow: 0px 1px 3px 1px rgba(0, 0, 0, 0.15);\n",
              "      filter: drop-shadow(0px 1px 2px rgba(0, 0, 0, 0.3));\n",
              "      fill: #FFFFFF;\n",
              "    }\n",
              "  </style>\n",
              "\n",
              "      <script>\n",
              "        const buttonEl =\n",
              "          document.querySelector('#df-e9cef2a0-f4c7-4c09-b55a-167f3d370b5f button.colab-df-convert');\n",
              "        buttonEl.style.display =\n",
              "          google.colab.kernel.accessAllowed ? 'block' : 'none';\n",
              "\n",
              "        async function convertToInteractive(key) {\n",
              "          const element = document.querySelector('#df-e9cef2a0-f4c7-4c09-b55a-167f3d370b5f');\n",
              "          const dataTable =\n",
              "            await google.colab.kernel.invokeFunction('convertToInteractive',\n",
              "                                                     [key], {});\n",
              "          if (!dataTable) return;\n",
              "\n",
              "          const docLinkHtml = 'Like what you see? Visit the ' +\n",
              "            '<a target=\"_blank\" href=https://colab.research.google.com/notebooks/data_table.ipynb>data table notebook</a>'\n",
              "            + ' to learn more about interactive tables.';\n",
              "          element.innerHTML = '';\n",
              "          dataTable['output_type'] = 'display_data';\n",
              "          await google.colab.output.renderOutput(dataTable, element);\n",
              "          const docLink = document.createElement('div');\n",
              "          docLink.innerHTML = docLinkHtml;\n",
              "          element.appendChild(docLink);\n",
              "        }\n",
              "      </script>\n",
              "    </div>\n",
              "  </div>\n",
              "  "
            ]
          },
          "metadata": {},
          "execution_count": 4
        }
      ]
    },
    {
      "cell_type": "code",
      "source": [
        "fish.info()"
      ],
      "metadata": {
        "colab": {
          "base_uri": "https://localhost:8080/"
        },
        "id": "gkMyGmsKEqPU",
        "outputId": "dd737e61-fb45-4d9d-8c1c-169e6a7eae6d"
      },
      "execution_count": 5,
      "outputs": [
        {
          "output_type": "stream",
          "name": "stdout",
          "text": [
            "<class 'pandas.core.frame.DataFrame'>\n",
            "RangeIndex: 159 entries, 0 to 158\n",
            "Data columns (total 6 columns):\n",
            " #   Column    Non-Null Count  Dtype  \n",
            "---  ------    --------------  -----  \n",
            " 0   Species   159 non-null    object \n",
            " 1   Weight    159 non-null    float64\n",
            " 2   Length    159 non-null    float64\n",
            " 3   Diagonal  159 non-null    float64\n",
            " 4   Height    159 non-null    float64\n",
            " 5   Width     159 non-null    float64\n",
            "dtypes: float64(5), object(1)\n",
            "memory usage: 7.6+ KB\n"
          ]
        }
      ]
    },
    {
      "cell_type": "code",
      "source": [
        "df = fish.loc[fish['Species'].isin(['Bream','Smelt']),\n",
        "              ['Species', 'Weight', 'Length']]"
      ],
      "metadata": {
        "id": "PhlN9LZuEscX"
      },
      "execution_count": 6,
      "outputs": []
    },
    {
      "cell_type": "code",
      "source": [
        "df.head()"
      ],
      "metadata": {
        "colab": {
          "base_uri": "https://localhost:8080/",
          "height": 206
        },
        "id": "fBBcZmvaFQqp",
        "outputId": "a092f801-235c-4625-dc82-3de63bcaa6fe"
      },
      "execution_count": 7,
      "outputs": [
        {
          "output_type": "execute_result",
          "data": {
            "text/plain": [
              "  Species  Weight  Length\n",
              "0   Bream   242.0    25.4\n",
              "1   Bream   290.0    26.3\n",
              "2   Bream   340.0    26.5\n",
              "3   Bream   363.0    29.0\n",
              "4   Bream   430.0    29.0"
            ],
            "text/html": [
              "\n",
              "  <div id=\"df-59fd9435-b490-4c7b-8147-2fc921786a0a\">\n",
              "    <div class=\"colab-df-container\">\n",
              "      <div>\n",
              "<style scoped>\n",
              "    .dataframe tbody tr th:only-of-type {\n",
              "        vertical-align: middle;\n",
              "    }\n",
              "\n",
              "    .dataframe tbody tr th {\n",
              "        vertical-align: top;\n",
              "    }\n",
              "\n",
              "    .dataframe thead th {\n",
              "        text-align: right;\n",
              "    }\n",
              "</style>\n",
              "<table border=\"1\" class=\"dataframe\">\n",
              "  <thead>\n",
              "    <tr style=\"text-align: right;\">\n",
              "      <th></th>\n",
              "      <th>Species</th>\n",
              "      <th>Weight</th>\n",
              "      <th>Length</th>\n",
              "    </tr>\n",
              "  </thead>\n",
              "  <tbody>\n",
              "    <tr>\n",
              "      <th>0</th>\n",
              "      <td>Bream</td>\n",
              "      <td>242.0</td>\n",
              "      <td>25.4</td>\n",
              "    </tr>\n",
              "    <tr>\n",
              "      <th>1</th>\n",
              "      <td>Bream</td>\n",
              "      <td>290.0</td>\n",
              "      <td>26.3</td>\n",
              "    </tr>\n",
              "    <tr>\n",
              "      <th>2</th>\n",
              "      <td>Bream</td>\n",
              "      <td>340.0</td>\n",
              "      <td>26.5</td>\n",
              "    </tr>\n",
              "    <tr>\n",
              "      <th>3</th>\n",
              "      <td>Bream</td>\n",
              "      <td>363.0</td>\n",
              "      <td>29.0</td>\n",
              "    </tr>\n",
              "    <tr>\n",
              "      <th>4</th>\n",
              "      <td>Bream</td>\n",
              "      <td>430.0</td>\n",
              "      <td>29.0</td>\n",
              "    </tr>\n",
              "  </tbody>\n",
              "</table>\n",
              "</div>\n",
              "      <button class=\"colab-df-convert\" onclick=\"convertToInteractive('df-59fd9435-b490-4c7b-8147-2fc921786a0a')\"\n",
              "              title=\"Convert this dataframe to an interactive table.\"\n",
              "              style=\"display:none;\">\n",
              "        \n",
              "  <svg xmlns=\"http://www.w3.org/2000/svg\" height=\"24px\"viewBox=\"0 0 24 24\"\n",
              "       width=\"24px\">\n",
              "    <path d=\"M0 0h24v24H0V0z\" fill=\"none\"/>\n",
              "    <path d=\"M18.56 5.44l.94 2.06.94-2.06 2.06-.94-2.06-.94-.94-2.06-.94 2.06-2.06.94zm-11 1L8.5 8.5l.94-2.06 2.06-.94-2.06-.94L8.5 2.5l-.94 2.06-2.06.94zm10 10l.94 2.06.94-2.06 2.06-.94-2.06-.94-.94-2.06-.94 2.06-2.06.94z\"/><path d=\"M17.41 7.96l-1.37-1.37c-.4-.4-.92-.59-1.43-.59-.52 0-1.04.2-1.43.59L10.3 9.45l-7.72 7.72c-.78.78-.78 2.05 0 2.83L4 21.41c.39.39.9.59 1.41.59.51 0 1.02-.2 1.41-.59l7.78-7.78 2.81-2.81c.8-.78.8-2.07 0-2.86zM5.41 20L4 18.59l7.72-7.72 1.47 1.35L5.41 20z\"/>\n",
              "  </svg>\n",
              "      </button>\n",
              "      \n",
              "  <style>\n",
              "    .colab-df-container {\n",
              "      display:flex;\n",
              "      flex-wrap:wrap;\n",
              "      gap: 12px;\n",
              "    }\n",
              "\n",
              "    .colab-df-convert {\n",
              "      background-color: #E8F0FE;\n",
              "      border: none;\n",
              "      border-radius: 50%;\n",
              "      cursor: pointer;\n",
              "      display: none;\n",
              "      fill: #1967D2;\n",
              "      height: 32px;\n",
              "      padding: 0 0 0 0;\n",
              "      width: 32px;\n",
              "    }\n",
              "\n",
              "    .colab-df-convert:hover {\n",
              "      background-color: #E2EBFA;\n",
              "      box-shadow: 0px 1px 2px rgba(60, 64, 67, 0.3), 0px 1px 3px 1px rgba(60, 64, 67, 0.15);\n",
              "      fill: #174EA6;\n",
              "    }\n",
              "\n",
              "    [theme=dark] .colab-df-convert {\n",
              "      background-color: #3B4455;\n",
              "      fill: #D2E3FC;\n",
              "    }\n",
              "\n",
              "    [theme=dark] .colab-df-convert:hover {\n",
              "      background-color: #434B5C;\n",
              "      box-shadow: 0px 1px 3px 1px rgba(0, 0, 0, 0.15);\n",
              "      filter: drop-shadow(0px 1px 2px rgba(0, 0, 0, 0.3));\n",
              "      fill: #FFFFFF;\n",
              "    }\n",
              "  </style>\n",
              "\n",
              "      <script>\n",
              "        const buttonEl =\n",
              "          document.querySelector('#df-59fd9435-b490-4c7b-8147-2fc921786a0a button.colab-df-convert');\n",
              "        buttonEl.style.display =\n",
              "          google.colab.kernel.accessAllowed ? 'block' : 'none';\n",
              "\n",
              "        async function convertToInteractive(key) {\n",
              "          const element = document.querySelector('#df-59fd9435-b490-4c7b-8147-2fc921786a0a');\n",
              "          const dataTable =\n",
              "            await google.colab.kernel.invokeFunction('convertToInteractive',\n",
              "                                                     [key], {});\n",
              "          if (!dataTable) return;\n",
              "\n",
              "          const docLinkHtml = 'Like what you see? Visit the ' +\n",
              "            '<a target=\"_blank\" href=https://colab.research.google.com/notebooks/data_table.ipynb>data table notebook</a>'\n",
              "            + ' to learn more about interactive tables.';\n",
              "          element.innerHTML = '';\n",
              "          dataTable['output_type'] = 'display_data';\n",
              "          await google.colab.output.renderOutput(dataTable, element);\n",
              "          const docLink = document.createElement('div');\n",
              "          docLink.innerHTML = docLinkHtml;\n",
              "          element.appendChild(docLink);\n",
              "        }\n",
              "      </script>\n",
              "    </div>\n",
              "  </div>\n",
              "  "
            ]
          },
          "metadata": {},
          "execution_count": 7
        }
      ]
    },
    {
      "cell_type": "code",
      "source": [
        "# DataFrame을 특성과 타겟으로 분리하고 ndarray(배열)로 변환.\n",
        "features = df.iloc[:, 1:].values\n",
        "target = df['Species'].values"
      ],
      "metadata": {
        "id": "_0Bl1GDDFRIt"
      },
      "execution_count": 8,
      "outputs": []
    },
    {
      "cell_type": "code",
      "source": [
        "features.shape  # (n_samples, n_features)"
      ],
      "metadata": {
        "colab": {
          "base_uri": "https://localhost:8080/"
        },
        "id": "O_2yddLWGBeG",
        "outputId": "d7013e64-c4e1-4ec4-f98f-8ef7a0f59701"
      },
      "execution_count": 9,
      "outputs": [
        {
          "output_type": "execute_result",
          "data": {
            "text/plain": [
              "(49, 2)"
            ]
          },
          "metadata": {},
          "execution_count": 9
        }
      ]
    },
    {
      "cell_type": "code",
      "source": [
        "target.shape    # (n_samples, )"
      ],
      "metadata": {
        "colab": {
          "base_uri": "https://localhost:8080/"
        },
        "id": "Jx7oEWCgGEBZ",
        "outputId": "8eb7d72d-6aef-4b97-c689-dcd22819e52f"
      },
      "execution_count": 10,
      "outputs": [
        {
          "output_type": "execute_result",
          "data": {
            "text/plain": [
              "(49,)"
            ]
          },
          "metadata": {},
          "execution_count": 10
        }
      ]
    },
    {
      "cell_type": "code",
      "source": [
        "features[:5, :]"
      ],
      "metadata": {
        "colab": {
          "base_uri": "https://localhost:8080/"
        },
        "id": "aqMC7v23GFH4",
        "outputId": "e0860103-b0a2-4fc2-9b34-ee3939704bb8"
      },
      "execution_count": 11,
      "outputs": [
        {
          "output_type": "execute_result",
          "data": {
            "text/plain": [
              "array([[242. ,  25.4],\n",
              "       [290. ,  26.3],\n",
              "       [340. ,  26.5],\n",
              "       [363. ,  29. ],\n",
              "       [430. ,  29. ]])"
            ]
          },
          "metadata": {},
          "execution_count": 11
        }
      ]
    },
    {
      "cell_type": "code",
      "source": [
        "target[:5]"
      ],
      "metadata": {
        "colab": {
          "base_uri": "https://localhost:8080/"
        },
        "id": "vCv1CsDPGfXf",
        "outputId": "e1da81cf-1bfa-44de-da77-4429743fd06f"
      },
      "execution_count": 12,
      "outputs": [
        {
          "output_type": "execute_result",
          "data": {
            "text/plain": [
              "array(['Bream', 'Bream', 'Bream', 'Bream', 'Bream'], dtype=object)"
            ]
          },
          "metadata": {},
          "execution_count": 12
        }
      ]
    },
    {
      "cell_type": "code",
      "source": [
        "np.unique(target)"
      ],
      "metadata": {
        "colab": {
          "base_uri": "https://localhost:8080/"
        },
        "id": "FPy2UyyZGq9b",
        "outputId": "af3164f2-4557-477a-c6a8-c0fccdf9bf34"
      },
      "execution_count": 13,
      "outputs": [
        {
          "output_type": "execute_result",
          "data": {
            "text/plain": [
              "array(['Bream', 'Smelt'], dtype=object)"
            ]
          },
          "metadata": {},
          "execution_count": 13
        }
      ]
    },
    {
      "cell_type": "markdown",
      "source": [
        "# 훈련 셋, 테스트 셋 분리\n",
        "\n",
        "훈련 셋:테스트 셋 = 7:3"
      ],
      "metadata": {
        "id": "6mlMsrYpHlr3"
      }
    },
    {
      "cell_type": "markdown",
      "source": [
        "## 순차 추출(sequential sampling)"
      ],
      "metadata": {
        "id": "00L3fmNhHp2X"
      }
    },
    {
      "cell_type": "code",
      "source": [
        "49 * 0.7, 49 * 0.3"
      ],
      "metadata": {
        "colab": {
          "base_uri": "https://localhost:8080/"
        },
        "id": "7TuHEap4Gzxz",
        "outputId": "e01242d3-55f6-492f-c2f1-42e4c5ba8e3e"
      },
      "execution_count": 14,
      "outputs": [
        {
          "output_type": "execute_result",
          "data": {
            "text/plain": [
              "(34.3, 14.7)"
            ]
          },
          "metadata": {},
          "execution_count": 14
        }
      ]
    },
    {
      "cell_type": "code",
      "source": [
        "num_test = 35   # 훈련 셋의 샘플 개수 -> 테스트 셋의 샘플 개수 : 48 - 35 = 14"
      ],
      "metadata": {
        "id": "dHj8GE77II3_"
      },
      "execution_count": 15,
      "outputs": []
    },
    {
      "cell_type": "code",
      "source": [
        "X_train = features[:num_test, :]    # 훈련 셋\n",
        "y_train = target[:num_test]         # 훈련 레이블\n",
        "X_test = features[num_test:, :]     # 테스트 셋\n",
        "y_test = target[num_test:]          # 테스트 레이블"
      ],
      "metadata": {
        "id": "xzT0HRKLIab4"
      },
      "execution_count": 16,
      "outputs": []
    },
    {
      "cell_type": "code",
      "source": [
        "np.unique(y_train)\n",
        "# 훈련 셋에는 물고기의 종류가 모두 도미(Bream)만 있음."
      ],
      "metadata": {
        "colab": {
          "base_uri": "https://localhost:8080/"
        },
        "id": "_P2iw0cVKFM8",
        "outputId": "97c14100-6d3f-4808-9132-499bb2fc32d1"
      },
      "execution_count": 17,
      "outputs": [
        {
          "output_type": "execute_result",
          "data": {
            "text/plain": [
              "array(['Bream'], dtype=object)"
            ]
          },
          "metadata": {},
          "execution_count": 17
        }
      ]
    },
    {
      "cell_type": "code",
      "source": [
        "np.unique(y_test)\n",
        "# 테스트 셋에는 모두 빙어 (Smelt)만 있음."
      ],
      "metadata": {
        "colab": {
          "base_uri": "https://localhost:8080/"
        },
        "id": "rQoAlA9FKKKM",
        "outputId": "bd4814c7-9936-44a7-c198-c1c501db5b1e"
      },
      "execution_count": 18,
      "outputs": [
        {
          "output_type": "execute_result",
          "data": {
            "text/plain": [
              "array(['Smelt'], dtype=object)"
            ]
          },
          "metadata": {},
          "execution_count": 18
        }
      ]
    },
    {
      "cell_type": "code",
      "source": [
        "from sklearn.utils import shuffle\n",
        "# train_test_split 함수를 사용한 순차 추출\n",
        "X_train, X_test, y_train, y_test = train_test_split(features, target,    \n",
        "                                                    train_size=35,  # 훈련 샘플의 개수\n",
        "                                                    shuffle=False)  # 샘플을 섞지 않음 -> 순차 추출, 섞으면 랜덤추출 "
      ],
      "metadata": {
        "id": "PhpARgycKMD0"
      },
      "execution_count": 19,
      "outputs": []
    },
    {
      "cell_type": "code",
      "source": [
        "X_train.shape, X_test.shape"
      ],
      "metadata": {
        "colab": {
          "base_uri": "https://localhost:8080/"
        },
        "id": "FuvK0eAtNeeu",
        "outputId": "2f867fdc-cfe8-4850-9fe4-486adb236210"
      },
      "execution_count": 20,
      "outputs": [
        {
          "output_type": "execute_result",
          "data": {
            "text/plain": [
              "((35, 2), (14, 2))"
            ]
          },
          "metadata": {},
          "execution_count": 20
        }
      ]
    },
    {
      "cell_type": "code",
      "source": [
        "y_train.shape, y_test.shape"
      ],
      "metadata": {
        "colab": {
          "base_uri": "https://localhost:8080/"
        },
        "id": "z_sPz7mdNgU1",
        "outputId": "7db5a757-fce5-4f0d-8a5f-c67e723150e2"
      },
      "execution_count": 21,
      "outputs": [
        {
          "output_type": "execute_result",
          "data": {
            "text/plain": [
              "((35,), (14,))"
            ]
          },
          "metadata": {},
          "execution_count": 21
        }
      ]
    },
    {
      "cell_type": "code",
      "source": [
        "np.unique(y_train)"
      ],
      "metadata": {
        "colab": {
          "base_uri": "https://localhost:8080/"
        },
        "id": "A7wcW339N8Xc",
        "outputId": "f3026310-625a-4608-c837-34ac46fd1024"
      },
      "execution_count": 22,
      "outputs": [
        {
          "output_type": "execute_result",
          "data": {
            "text/plain": [
              "array(['Bream'], dtype=object)"
            ]
          },
          "metadata": {},
          "execution_count": 22
        }
      ]
    },
    {
      "cell_type": "code",
      "source": [
        "np.unique(y_test)"
      ],
      "metadata": {
        "colab": {
          "base_uri": "https://localhost:8080/"
        },
        "id": "dMXQIIelN98b",
        "outputId": "2ddbce78-92af-4a5e-b2cc-7fe5402fcb4b"
      },
      "execution_count": 23,
      "outputs": [
        {
          "output_type": "execute_result",
          "data": {
            "text/plain": [
              "array(['Smelt'], dtype=object)"
            ]
          },
          "metadata": {},
          "execution_count": 23
        }
      ]
    },
    {
      "cell_type": "markdown",
      "source": [
        "훈련 셋과 테스트 셋 시각화"
      ],
      "metadata": {
        "id": "R9LeII6QmNG6"
      }
    },
    {
      "cell_type": "code",
      "source": [
        "plt.scatter(x=X_train[:, 1], y=X_train[:, 0], label='Train')\n",
        "plt.scatter(x=X_test[:, 1], y=X_test[:, 1], label='Test')\n",
        "\n",
        "plt.xlabel('Length (cm)')\n",
        "plt.ylabel('Weight (g)')\n",
        "plt.legend()\n",
        "plt.show()"
      ],
      "metadata": {
        "id": "0ztTDQCxN_cX",
        "colab": {
          "base_uri": "https://localhost:8080/",
          "height": 279
        },
        "outputId": "d2f48d3b-dfc7-4180-ccea-f39e780ebd76"
      },
      "execution_count": 26,
      "outputs": [
        {
          "output_type": "display_data",
          "data": {
            "text/plain": [
              "<Figure size 432x288 with 1 Axes>"
            ],
            "image/png": "[encoded data removed]"
          },
          "metadata": {
            "needs_background": "light"
          }
        }
      ]
    },
    {
      "cell_type": "markdown",
      "source": [
        "### KNN 분류기 훈련, 예측, 평가"
      ],
      "metadata": {
        "id": "zre-mrX7ndXz"
      }
    },
    {
      "cell_type": "code",
      "source": [
        "knn = KNeighborsClassifier()    # 머신러닝 모델 생성"
      ],
      "metadata": {
        "id": "w3dKPj1dmsTV"
      },
      "execution_count": 27,
      "outputs": []
    },
    {
      "cell_type": "code",
      "source": [
        "knn.fit(X_train, y_train)   # 머신 러닝 모델 훈련 (지도 학습)"
      ],
      "metadata": {
        "colab": {
          "base_uri": "https://localhost:8080/"
        },
        "id": "cT32ehVrn9jX",
        "outputId": "6b9e5f98-7577-4502-aa99-4c5a50bd7abb"
      },
      "execution_count": 28,
      "outputs": [
        {
          "output_type": "execute_result",
          "data": {
            "text/plain": [
              "KNeighborsClassifier()"
            ]
          },
          "metadata": {},
          "execution_count": 28
        }
      ]
    },
    {
      "cell_type": "code",
      "source": [
        "# 훈련 셋에서의 예측 결과 평가\n",
        "train_pred = knn.predict(X_train)\n",
        "train_pred"
      ],
      "metadata": {
        "colab": {
          "base_uri": "https://localhost:8080/"
        },
        "id": "v7AncwxcoeGe",
        "outputId": "4b796072-c667-4f77-e93b-7f16bc883f04"
      },
      "execution_count": 30,
      "outputs": [
        {
          "output_type": "execute_result",
          "data": {
            "text/plain": [
              "array(['Bream', 'Bream', 'Bream', 'Bream', 'Bream', 'Bream', 'Bream',\n",
              "       'Bream', 'Bream', 'Bream', 'Bream', 'Bream', 'Bream', 'Bream',\n",
              "       'Bream', 'Bream', 'Bream', 'Bream', 'Bream', 'Bream', 'Bream',\n",
              "       'Bream', 'Bream', 'Bream', 'Bream', 'Bream', 'Bream', 'Bream',\n",
              "       'Bream', 'Bream', 'Bream', 'Bream', 'Bream', 'Bream', 'Bream'],\n",
              "      dtype=object)"
            ]
          },
          "metadata": {},
          "execution_count": 30
        }
      ]
    },
    {
      "cell_type": "code",
      "source": [
        "# 훈련 셋의 실제값(훈련 레이블)\n",
        "y_train"
      ],
      "metadata": {
        "colab": {
          "base_uri": "https://localhost:8080/"
        },
        "id": "If0L5e_so1jP",
        "outputId": "f8fb4378-110e-4312-d101-13a5dc7ab29e"
      },
      "execution_count": 31,
      "outputs": [
        {
          "output_type": "execute_result",
          "data": {
            "text/plain": [
              "array(['Bream', 'Bream', 'Bream', 'Bream', 'Bream', 'Bream', 'Bream',\n",
              "       'Bream', 'Bream', 'Bream', 'Bream', 'Bream', 'Bream', 'Bream',\n",
              "       'Bream', 'Bream', 'Bream', 'Bream', 'Bream', 'Bream', 'Bream',\n",
              "       'Bream', 'Bream', 'Bream', 'Bream', 'Bream', 'Bream', 'Bream',\n",
              "       'Bream', 'Bream', 'Bream', 'Bream', 'Bream', 'Bream', 'Bream'],\n",
              "      dtype=object)"
            ]
          },
          "metadata": {},
          "execution_count": 31
        }
      ]
    },
    {
      "cell_type": "code",
      "source": [
        "# 훈련 셋 정확도\n",
        "train_acc = np.mean(train_pred == y_train)\n",
        "train_acc"
      ],
      "metadata": {
        "colab": {
          "base_uri": "https://localhost:8080/"
        },
        "id": "9gzmKbq6pIkz",
        "outputId": "8c9d7e8e-6009-412a-8111-71fb9c2b901c"
      },
      "execution_count": 32,
      "outputs": [
        {
          "output_type": "execute_result",
          "data": {
            "text/plain": [
              "1.0"
            ]
          },
          "metadata": {},
          "execution_count": 32
        }
      ]
    },
    {
      "cell_type": "code",
      "source": [
        "# 테스트 셋에서의 예측 결과 평가\n",
        "test_pred = knn.predict(X_test)\n",
        "test_pred "
      ],
      "metadata": {
        "colab": {
          "base_uri": "https://localhost:8080/"
        },
        "id": "pqgkChstpUbr",
        "outputId": "df7314a2-5805-4f4f-8ce8-4e80836fca40"
      },
      "execution_count": 34,
      "outputs": [
        {
          "output_type": "execute_result",
          "data": {
            "text/plain": [
              "array(['Bream', 'Bream', 'Bream', 'Bream', 'Bream', 'Bream', 'Bream',\n",
              "       'Bream', 'Bream', 'Bream', 'Bream', 'Bream', 'Bream', 'Bream'],\n",
              "      dtype=object)"
            ]
          },
          "metadata": {},
          "execution_count": 34
        }
      ]
    },
    {
      "cell_type": "code",
      "source": [
        "# 테스트 셋의 실제값(테스트 레이블)\n",
        "y_test"
      ],
      "metadata": {
        "colab": {
          "base_uri": "https://localhost:8080/"
        },
        "id": "qGsgXhH8qs2r",
        "outputId": "05b8b591-b80b-4ee4-a0cc-634b9a50e1e1"
      },
      "execution_count": 36,
      "outputs": [
        {
          "output_type": "execute_result",
          "data": {
            "text/plain": [
              "array(['Smelt', 'Smelt', 'Smelt', 'Smelt', 'Smelt', 'Smelt', 'Smelt',\n",
              "       'Smelt', 'Smelt', 'Smelt', 'Smelt', 'Smelt', 'Smelt', 'Smelt'],\n",
              "      dtype=object)"
            ]
          },
          "metadata": {},
          "execution_count": 36
        }
      ]
    },
    {
      "cell_type": "code",
      "source": [
        "# 테스트 셋 정확도\n",
        "test_acc = np.mean(test_pred == y_test)\n",
        "test_acc"
      ],
      "metadata": {
        "colab": {
          "base_uri": "https://localhost:8080/"
        },
        "id": "pLtylVXArDB5",
        "outputId": "1e167e23-657c-43c1-9215-32463ea83e34"
      },
      "execution_count": 37,
      "outputs": [
        {
          "output_type": "execute_result",
          "data": {
            "text/plain": [
              "0.0"
            ]
          },
          "metadata": {},
          "execution_count": 37
        }
      ]
    },
    {
      "cell_type": "markdown",
      "source": [
        "## 임의 추출(Random Sampling)"
      ],
      "metadata": {
        "id": "Lk43gWA3wnNk"
      }
    },
    {
      "cell_type": "code",
      "source": [
        "idx = np.arange(49)\n",
        "print(idx)\n",
        "np.random.shuffle(idx)\n",
        "print(idx)"
      ],
      "metadata": {
        "colab": {
          "base_uri": "https://localhost:8080/"
        },
        "id": "AcsrPJrMrIlY",
        "outputId": "c8dbc3fd-0218-4a0f-a6e8-78602f13135f"
      },
      "execution_count": 38,
      "outputs": [
        {
          "output_type": "stream",
          "name": "stdout",
          "text": [
            "[ 0  1  2  3  4  5  6  7  8  9 10 11 12 13 14 15 16 17 18 19 20 21 22 23\n",
            " 24 25 26 27 28 29 30 31 32 33 34 35 36 37 38 39 40 41 42 43 44 45 46 47\n",
            " 48]\n",
            "[25 29  8 42 16 44 15  3  6 14 45 12 22 34 37 43 48  9 36 46 28 31 33 20\n",
            "  7 18  0  4 11  1 35 30 40 38 27 10 19 47  2 13 24 39 26 21  5 17 32 41\n",
            " 23]\n"
          ]
        }
      ]
    },
    {
      "cell_type": "code",
      "source": [
        "# 훈련 셋/테스트 셋을 임의 추출 방식으로 분리\n",
        "X_train, X_test, y_train, y_test = train_test_split(features, target,\n",
        "                                                    train_size=35,  # 훈련 셋의 크기(샘플 개수)\n",
        "                                                    shuffle=True,   # 데이터를 무작위로 섞음, 기본 값은 True\n",
        "                                                    random_state=42)    # 난수 seed 설정"
      ],
      "metadata": {
        "id": "JwJuarRgwvZR"
      },
      "execution_count": 39,
      "outputs": []
    },
    {
      "cell_type": "code",
      "source": [
        "# \n",
        "X_train.shape, X_test.shape"
      ],
      "metadata": {
        "colab": {
          "base_uri": "https://localhost:8080/"
        },
        "id": "jGJ6eKs1yfvg",
        "outputId": "e49cbf54-7007-4874-94cf-25784d0d057d"
      },
      "execution_count": 41,
      "outputs": [
        {
          "output_type": "execute_result",
          "data": {
            "text/plain": [
              "((35, 2), (14, 2))"
            ]
          },
          "metadata": {},
          "execution_count": 41
        }
      ]
    },
    {
      "cell_type": "code",
      "source": [
        "# 훈련 레이블, 테스트 레이블의 shape\n",
        "y_train.shape, y_test.shape"
      ],
      "metadata": {
        "colab": {
          "base_uri": "https://localhost:8080/"
        },
        "id": "WTgpGC-oxuBl",
        "outputId": "01b2c787-2b75-4df1-cea7-5b04249c642f"
      },
      "execution_count": 40,
      "outputs": [
        {
          "output_type": "execute_result",
          "data": {
            "text/plain": [
              "((35,), (14,))"
            ]
          },
          "metadata": {},
          "execution_count": 40
        }
      ]
    },
    {
      "cell_type": "code",
      "source": [
        "# 훈련 레이블에서 도미 빙어의 빈도수\n",
        "np.unique(y_train, return_counts=True)"
      ],
      "metadata": {
        "colab": {
          "base_uri": "https://localhost:8080/"
        },
        "id": "nM0qD6Yqye7V",
        "outputId": "ba62b5b3-c105-46cc-d864-33afffdad0d3"
      },
      "execution_count": 42,
      "outputs": [
        {
          "output_type": "execute_result",
          "data": {
            "text/plain": [
              "(array(['Bream', 'Smelt'], dtype=object), array([24, 11]))"
            ]
          },
          "metadata": {},
          "execution_count": 42
        }
      ]
    },
    {
      "cell_type": "code",
      "source": [
        "# 테스트 레이블에서 도미/빙어의 빈도수\n",
        "np.unique(y_test, return_counts=True)"
      ],
      "metadata": {
        "colab": {
          "base_uri": "https://localhost:8080/"
        },
        "id": "CrbX7OzNymdK",
        "outputId": "4ee32289-0b19-4b30-c70d-fdb14b7bb422"
      },
      "execution_count": 43,
      "outputs": [
        {
          "output_type": "execute_result",
          "data": {
            "text/plain": [
              "(array(['Bream', 'Smelt'], dtype=object), array([11,  3]))"
            ]
          },
          "metadata": {},
          "execution_count": 43
        }
      ]
    },
    {
      "cell_type": "code",
      "source": [
        "# 훈련 셋/ 테스트 셋 시각화\n",
        "plt.scatter(x=X_train[:, 1], y=X_train[:, 0], label='train')\n",
        "plt.scatter(x=X_test[:, 1], y=X_test[:, 0], label='test')\n",
        "\n",
        "plt.xlabel('Length (cm)')\n",
        "plt.ylabel('Weight (g)')\n",
        "plt.legend()\n",
        "plt.show()"
      ],
      "metadata": {
        "colab": {
          "base_uri": "https://localhost:8080/",
          "height": 279
        },
        "id": "0ANuNavByvRI",
        "outputId": "088088fe-0502-4f43-90b6-49261216439b"
      },
      "execution_count": 47,
      "outputs": [
        {
          "output_type": "display_data",
          "data": {
            "text/plain": [
              "<Figure size 432x288 with 1 Axes>"
            ],
            "image/png": "[encoded data removed]"
          },
          "metadata": {
            "needs_background": "light"
          }
        }
      ]
    },
    {
      "cell_type": "markdown",
      "source": [
        "### KNN 모델 훈련, 예측, 평가"
      ],
      "metadata": {
        "id": "wwgW4Elz00Cr"
      }
    },
    {
      "cell_type": "code",
      "source": [
        "knn = KNeighborsClassifier()    # 모델 생성"
      ],
      "metadata": {
        "id": "37cSB7wyzc5W"
      },
      "execution_count": 48,
      "outputs": []
    },
    {
      "cell_type": "code",
      "source": [
        "knn.fit(X_train, y_train)   # 모델 훈련"
      ],
      "metadata": {
        "colab": {
          "base_uri": "https://localhost:8080/"
        },
        "id": "oTvH2I1208aK",
        "outputId": "9f8d3e8c-7982-4488-e8ce-203e2403a4fe"
      },
      "execution_count": 49,
      "outputs": [
        {
          "output_type": "execute_result",
          "data": {
            "text/plain": [
              "KNeighborsClassifier()"
            ]
          },
          "metadata": {},
          "execution_count": 49
        }
      ]
    },
    {
      "cell_type": "code",
      "source": [
        "train_pred = knn.predict(X_train)   \n",
        "train_pred  # 훈련 셋 예측값"
      ],
      "metadata": {
        "colab": {
          "base_uri": "https://localhost:8080/"
        },
        "id": "Ap2ZTFN_0_iT",
        "outputId": "bd63be95-f437-4629-de1b-4eba991b83e0"
      },
      "execution_count": 51,
      "outputs": [
        {
          "output_type": "execute_result",
          "data": {
            "text/plain": [
              "array(['Bream', 'Bream', 'Smelt', 'Smelt', 'Smelt', 'Bream', 'Bream',\n",
              "       'Bream', 'Bream', 'Bream', 'Bream', 'Bream', 'Smelt', 'Bream',\n",
              "       'Bream', 'Bream', 'Bream', 'Smelt', 'Bream', 'Bream', 'Bream',\n",
              "       'Smelt', 'Smelt', 'Bream', 'Smelt', 'Bream', 'Bream', 'Bream',\n",
              "       'Smelt', 'Bream', 'Bream', 'Smelt', 'Bream', 'Bream', 'Smelt'],\n",
              "      dtype=object)"
            ]
          },
          "metadata": {},
          "execution_count": 51
        }
      ]
    },
    {
      "cell_type": "code",
      "source": [
        "y_train # 실제 값"
      ],
      "metadata": {
        "colab": {
          "base_uri": "https://localhost:8080/"
        },
        "id": "2zxJPoVM1HJ-",
        "outputId": "9003ee5b-56c7-4dc6-8b62-99951be5a735"
      },
      "execution_count": 52,
      "outputs": [
        {
          "output_type": "execute_result",
          "data": {
            "text/plain": [
              "array(['Bream', 'Bream', 'Smelt', 'Smelt', 'Smelt', 'Bream', 'Bream',\n",
              "       'Bream', 'Bream', 'Bream', 'Bream', 'Bream', 'Smelt', 'Bream',\n",
              "       'Bream', 'Bream', 'Bream', 'Smelt', 'Bream', 'Bream', 'Bream',\n",
              "       'Smelt', 'Smelt', 'Bream', 'Smelt', 'Bream', 'Bream', 'Bream',\n",
              "       'Smelt', 'Bream', 'Bream', 'Smelt', 'Bream', 'Bream', 'Smelt'],\n",
              "      dtype=object)"
            ]
          },
          "metadata": {},
          "execution_count": 52
        }
      ]
    },
    {
      "cell_type": "code",
      "source": [
        "train_acc = knn.score(X_train, y_train)   # 훈련 셋 정확도\n",
        "train_acc"
      ],
      "metadata": {
        "colab": {
          "base_uri": "https://localhost:8080/"
        },
        "id": "fRiKOvKX1Oeg",
        "outputId": "e3ace577-ce9c-4338-df30-158803514949"
      },
      "execution_count": 54,
      "outputs": [
        {
          "output_type": "execute_result",
          "data": {
            "text/plain": [
              "1.0"
            ]
          },
          "metadata": {},
          "execution_count": 54
        }
      ]
    },
    {
      "cell_type": "code",
      "source": [
        "test_pred = knn.predict(X_test)\n",
        "test_pred   # 테스트 셋의 예측값"
      ],
      "metadata": {
        "colab": {
          "base_uri": "https://localhost:8080/"
        },
        "id": "gSHR6VHi1Z37",
        "outputId": "7c714f59-00dd-4e83-dafb-5dc531e1846b"
      },
      "execution_count": 55,
      "outputs": [
        {
          "output_type": "execute_result",
          "data": {
            "text/plain": [
              "array(['Bream', 'Smelt', 'Smelt', 'Smelt', 'Bream', 'Bream', 'Bream',\n",
              "       'Bream', 'Bream', 'Bream', 'Bream', 'Bream', 'Bream', 'Bream'],\n",
              "      dtype=object)"
            ]
          },
          "metadata": {},
          "execution_count": 55
        }
      ]
    },
    {
      "cell_type": "code",
      "source": [
        "y_test  # 테스트 셋 실제값(테스트 레이블)"
      ],
      "metadata": {
        "colab": {
          "base_uri": "https://localhost:8080/"
        },
        "id": "q-e0Gkuw3Kwg",
        "outputId": "e97fd1d9-c449-4c6c-8948-d41c70858bea"
      },
      "execution_count": 56,
      "outputs": [
        {
          "output_type": "execute_result",
          "data": {
            "text/plain": [
              "array(['Bream', 'Smelt', 'Smelt', 'Smelt', 'Bream', 'Bream', 'Bream',\n",
              "       'Bream', 'Bream', 'Bream', 'Bream', 'Bream', 'Bream', 'Bream'],\n",
              "      dtype=object)"
            ]
          },
          "metadata": {},
          "execution_count": 56
        }
      ]
    },
    {
      "cell_type": "code",
      "source": [
        "test_acc = knn.score(X_test, y_test)\n",
        "test_acc    # 테스트 셋 정확도"
      ],
      "metadata": {
        "colab": {
          "base_uri": "https://localhost:8080/"
        },
        "id": "5PuZE17o3N41",
        "outputId": "f99f9850-7ed9-4146-a503-c3e39cca92e0"
      },
      "execution_count": 57,
      "outputs": [
        {
          "output_type": "execute_result",
          "data": {
            "text/plain": [
              "1.0"
            ]
          },
          "metadata": {},
          "execution_count": 57
        }
      ]
    },
    {
      "cell_type": "markdown",
      "source": [
        "## 층화 추출(Stratified Sampling)\n",
        "\n",
        "데이터 셋에서 각 클래스의 비율이 훈련 셋과 테스트 셋에서 비슷하게 유지되도록 샘플링 하는 방법"
      ],
      "metadata": {
        "id": "cMUYio8-7vF0"
      }
    },
    {
      "cell_type": "code",
      "source": [
        "from pandas.core.common import random_state\n",
        "X_train, X_test, y_train, y_test = train_test_split(features, target,\n",
        "                                                    test_size=0.3,\n",
        "                                                    stratify=target,\n",
        "                                                    random_state=42)\n",
        "# train_siza: 훈련 셋의 개수(비율), test_size: 테스트 셋의 개수(비율)"
      ],
      "metadata": {
        "id": "P8eI0CJE3Q31"
      },
      "execution_count": 58,
      "outputs": []
    },
    {
      "cell_type": "markdown",
      "source": [
        "파라미터 설명\n",
        "* train_size: 훈련 셋의 개수(비율), test_size: 테스트 셋의 개수(비율)\n",
        "    * train_size 또는 test_size중 하나만 값(argument)을 전달하면 다른 하나는 자동으로 계산 됨.\n",
        "    * 정수로 값을 전달한 경우는 훈련(테스트)셋의 샘플 개수를 의미.\n",
        "    * 0 ~ 1 사이의 실수로 값을 전달한 경우에는, 전체 샘플 중 훈련(테스트)셋의 비율을 의미.\n",
        "* stratify: 층화 추출의 기준이 되는 (각 클래스의 비율을 알 수 있는) 1차원 배열.\n",
        "* random_state: 난수 생성 seed 설정.\n",
        "* shuffle: 샘플들을 섞을 지 말 지를 결정. 기본값은 True"
      ],
      "metadata": {
        "id": "qT5lqJUb-kby"
      }
    },
    {
      "cell_type": "code",
      "source": [
        "X_train.shape, X_test.shape # 훈련 셋의 shape, 테스트 셋의 shape"
      ],
      "metadata": {
        "colab": {
          "base_uri": "https://localhost:8080/"
        },
        "id": "CthcD_sz9vEi",
        "outputId": "58f6c64b-ccf1-4f87-9926-eb12ff5e7a4c"
      },
      "execution_count": 59,
      "outputs": [
        {
          "output_type": "execute_result",
          "data": {
            "text/plain": [
              "((34, 2), (15, 2))"
            ]
          },
          "metadata": {},
          "execution_count": 59
        }
      ]
    },
    {
      "cell_type": "code",
      "source": [
        "y_train.shape, y_test.shape # 훈련 레이블의 shape, 테스트 셋의 label "
      ],
      "metadata": {
        "colab": {
          "base_uri": "https://localhost:8080/"
        },
        "id": "uzVwZMKkACaz",
        "outputId": "3c1d3871-70df-4307-a714-7eeffe7edda0"
      },
      "execution_count": 60,
      "outputs": [
        {
          "output_type": "execute_result",
          "data": {
            "text/plain": [
              "((34,), (15,))"
            ]
          },
          "metadata": {},
          "execution_count": 60
        }
      ]
    },
    {
      "cell_type": "code",
      "source": [
        "# 훈련 셋에서 도미(bream) / 빙어(smelt) 의 빈도수\n",
        "np.unique(y_train, return_counts=True)"
      ],
      "metadata": {
        "colab": {
          "base_uri": "https://localhost:8080/"
        },
        "id": "39aDHFJ1AHBJ",
        "outputId": "24176b2e-c99d-4192-8a5a-e5141d2d5d93"
      },
      "execution_count": 61,
      "outputs": [
        {
          "output_type": "execute_result",
          "data": {
            "text/plain": [
              "(array(['Bream', 'Smelt'], dtype=object), array([24, 10]))"
            ]
          },
          "metadata": {},
          "execution_count": 61
        }
      ]
    },
    {
      "cell_type": "code",
      "source": [
        "24/34, 10/34"
      ],
      "metadata": {
        "colab": {
          "base_uri": "https://localhost:8080/"
        },
        "id": "qHV0tQq7Apa3",
        "outputId": "6f2235de-9295-43c1-8d4d-2b39a4d33a09"
      },
      "execution_count": 62,
      "outputs": [
        {
          "output_type": "execute_result",
          "data": {
            "text/plain": [
              "(0.7058823529411765, 0.29411764705882354)"
            ]
          },
          "metadata": {},
          "execution_count": 62
        }
      ]
    },
    {
      "cell_type": "code",
      "source": [
        "# 테스트 셋에서 도미/빙어 빈도수\n",
        "np.unique(y_test, return_counts=True)"
      ],
      "metadata": {
        "colab": {
          "base_uri": "https://localhost:8080/"
        },
        "id": "N_esGqf-Aq3O",
        "outputId": "8e64f71a-6940-4871-ff0d-af7b0376d0ce"
      },
      "execution_count": 63,
      "outputs": [
        {
          "output_type": "execute_result",
          "data": {
            "text/plain": [
              "(array(['Bream', 'Smelt'], dtype=object), array([11,  4]))"
            ]
          },
          "metadata": {},
          "execution_count": 63
        }
      ]
    },
    {
      "cell_type": "code",
      "source": [
        "11/15, 4/15"
      ],
      "metadata": {
        "colab": {
          "base_uri": "https://localhost:8080/"
        },
        "id": "f91CWxAJAyqz",
        "outputId": "f83f81f9-b12f-42a5-d796-8ae42caf5371"
      },
      "execution_count": 64,
      "outputs": [
        {
          "output_type": "execute_result",
          "data": {
            "text/plain": [
              "(0.7333333333333333, 0.26666666666666666)"
            ]
          },
          "metadata": {},
          "execution_count": 64
        }
      ]
    },
    {
      "cell_type": "markdown",
      "source": [
        "### KNN 모델 훈련, 예측, 평가"
      ],
      "metadata": {
        "id": "SCyg9Tb4BH1v"
      }
    },
    {
      "cell_type": "code",
      "source": [
        "knn = KNeighborsClassifier()    # 모델 생성"
      ],
      "metadata": {
        "id": "dpGsdbcCA5mJ"
      },
      "execution_count": 65,
      "outputs": []
    },
    {
      "cell_type": "code",
      "source": [
        "knn.fit(X_train, y_train)   # 모델 훈련\n",
        "# 문제와 답을 알려준다"
      ],
      "metadata": {
        "colab": {
          "base_uri": "https://localhost:8080/"
        },
        "id": "Qv71pJYNBM4S",
        "outputId": "a21661a4-9847-4f03-d0d5-ae60d9510834"
      },
      "execution_count": 66,
      "outputs": [
        {
          "output_type": "execute_result",
          "data": {
            "text/plain": [
              "KNeighborsClassifier()"
            ]
          },
          "metadata": {},
          "execution_count": 66
        }
      ]
    },
    {
      "cell_type": "code",
      "source": [
        "train_pred = knn.predict(X_train)   # 훈련 셋 예측값\n",
        "train_pred"
      ],
      "metadata": {
        "colab": {
          "base_uri": "https://localhost:8080/"
        },
        "id": "Lqi-Df-eBTWk",
        "outputId": "d8f48621-b333-445a-a9fc-83b5fdb54060"
      },
      "execution_count": 67,
      "outputs": [
        {
          "output_type": "execute_result",
          "data": {
            "text/plain": [
              "array(['Bream', 'Bream', 'Bream', 'Smelt', 'Bream', 'Smelt', 'Smelt',\n",
              "       'Bream', 'Bream', 'Bream', 'Bream', 'Bream', 'Bream', 'Smelt',\n",
              "       'Smelt', 'Bream', 'Smelt', 'Bream', 'Bream', 'Bream', 'Bream',\n",
              "       'Bream', 'Bream', 'Bream', 'Bream', 'Bream', 'Smelt', 'Bream',\n",
              "       'Smelt', 'Bream', 'Bream', 'Smelt', 'Smelt', 'Bream'], dtype=object)"
            ]
          },
          "metadata": {},
          "execution_count": 67
        }
      ]
    },
    {
      "cell_type": "code",
      "source": [
        "print(y_train)  # 훈련 레이블"
      ],
      "metadata": {
        "colab": {
          "base_uri": "https://localhost:8080/"
        },
        "id": "DCzrGTsoBk9H",
        "outputId": "973eedcc-8551-4e31-90e2-10509d2a9dbb"
      },
      "execution_count": 68,
      "outputs": [
        {
          "output_type": "stream",
          "name": "stdout",
          "text": [
            "['Bream' 'Bream' 'Bream' 'Smelt' 'Bream' 'Smelt' 'Smelt' 'Bream' 'Bream'\n",
            " 'Bream' 'Bream' 'Bream' 'Bream' 'Smelt' 'Smelt' 'Bream' 'Smelt' 'Bream'\n",
            " 'Bream' 'Bream' 'Bream' 'Bream' 'Bream' 'Bream' 'Bream' 'Bream' 'Smelt'\n",
            " 'Bream' 'Smelt' 'Bream' 'Bream' 'Smelt' 'Smelt' 'Bream']\n"
          ]
        }
      ]
    },
    {
      "cell_type": "code",
      "source": [
        "train_acc = knn.score(X_train, y_train)\n",
        "train_acc   # 훈련 셋의 정확도"
      ],
      "metadata": {
        "colab": {
          "base_uri": "https://localhost:8080/"
        },
        "id": "f4P2LxjGBqa_",
        "outputId": "05b4e426-9a0f-495b-cbf5-0b1669736eb8"
      },
      "execution_count": 69,
      "outputs": [
        {
          "output_type": "execute_result",
          "data": {
            "text/plain": [
              "1.0"
            ]
          },
          "metadata": {},
          "execution_count": 69
        }
      ]
    },
    {
      "cell_type": "code",
      "source": [
        "test_pred = knn.predict(X_test) # 테스트 셋 예측값\n",
        "print(test_pred)"
      ],
      "metadata": {
        "colab": {
          "base_uri": "https://localhost:8080/"
        },
        "id": "BRmT625xB3PT",
        "outputId": "dadb3b09-df8f-4db5-a6b1-60df666a7fc3"
      },
      "execution_count": 70,
      "outputs": [
        {
          "output_type": "stream",
          "name": "stdout",
          "text": [
            "['Smelt' 'Bream' 'Bream' 'Bream' 'Smelt' 'Smelt' 'Bream' 'Bream' 'Bream'\n",
            " 'Bream' 'Bream' 'Bream' 'Bream' 'Bream' 'Smelt']\n"
          ]
        }
      ]
    },
    {
      "cell_type": "code",
      "source": [
        "print(y_test)   # 테스트 셋 실제값"
      ],
      "metadata": {
        "colab": {
          "base_uri": "https://localhost:8080/"
        },
        "id": "gYLs4lsRCVyP",
        "outputId": "82557c40-f9bc-4653-a5c5-eeb2e9d05d1e"
      },
      "execution_count": 72,
      "outputs": [
        {
          "output_type": "stream",
          "name": "stdout",
          "text": [
            "['Smelt' 'Bream' 'Bream' 'Bream' 'Smelt' 'Smelt' 'Bream' 'Bream' 'Bream'\n",
            " 'Bream' 'Bream' 'Bream' 'Bream' 'Bream' 'Smelt']\n"
          ]
        }
      ]
    },
    {
      "cell_type": "code",
      "source": [
        "test_acc = knn.score(X_test, y_test)\n",
        "test_acc"
      ],
      "metadata": {
        "colab": {
          "base_uri": "https://localhost:8080/"
        },
        "id": "nY375rhiCWsR",
        "outputId": "6c9e0d0d-5421-4eec-ba36-911adf956590"
      },
      "execution_count": 73,
      "outputs": [
        {
          "output_type": "execute_result",
          "data": {
            "text/plain": [
              "1.0"
            ]
          },
          "metadata": {},
          "execution_count": 73
        }
      ]
    },
    {
      "cell_type": "code",
      "source": [
        "# 훈련 셋, 테스트 셋 시각화\n",
        "plt.scatter(X_train[:, 1], X_train[:, 0], label='train')\n",
        "plt.scatter(X_test[:, 1], X_test[:, 0], label='test')\n",
        "plt.xlabel('Length(cm)')\n",
        "plt.ylabel('Weight(g)')\n",
        "plt.legend()\n",
        "plt.show()"
      ],
      "metadata": {
        "colab": {
          "base_uri": "https://localhost:8080/",
          "height": 279
        },
        "id": "1CqB1KWLCbTa",
        "outputId": "b7da67f8-b1ce-488a-96a0-c88ff5d592a2"
      },
      "execution_count": 75,
      "outputs": [
        {
          "output_type": "display_data",
          "data": {
            "text/plain": [
              "<Figure size 432x288 with 1 Axes>"
            ],
            "image/png": "[encoded data removed]"
          },
          "metadata": {
            "needs_background": "light"
          }
        }
      ]
    },
    {
      "cell_type": "markdown",
      "source": [
        "# 분류 모델 평가 지표"
      ],
      "metadata": {
        "id": "E7gOGyRGXbKX"
      }
    },
    {
      "cell_type": "code",
      "source": [
        "# 테스트 셋의 오차 행렬(confusion matrix, 혼동 행렬, 혼돈 행렬)\n",
        "confusion_matrix(y_true=y_test, y_pred=test_pred)"
      ],
      "metadata": {
        "colab": {
          "base_uri": "https://localhost:8080/"
        },
        "id": "21chJc9KCwaN",
        "outputId": "a50e3296-4e78-463f-90c6-b734cdc8583d"
      },
      "execution_count": 76,
      "outputs": [
        {
          "output_type": "execute_result",
          "data": {
            "text/plain": [
              "array([[11,  0],\n",
              "       [ 0,  4]])"
            ]
          },
          "metadata": {},
          "execution_count": 76
        }
      ]
    },
    {
      "cell_type": "markdown",
      "source": [
        "**Confusion Matrix** (오차/혼돈/혼동 행렬)\n",
        "\n",
        "<table>\n",
        "    <tr>\n",
        "        <th colspan='3'>예측값</th>\n",
        "    </tr>\n",
        "    <tr>\n",
        "        <th></th>\n",
        "        <th>Positive</th>\n",
        "        <th>Negative</th>\n",
        "    </tr>\n",
        "    <tr>\n",
        "        <th>Positive</th>\n",
        "        <td>TP</td>        \n",
        "        <td>FN</td>\n",
        "    </tr>\n",
        "    <tr>\n",
        "        <th>Negative</th>\n",
        "        <td>FP</td>        \n",
        "        <td>TN</td>\n",
        "    </tr>\n",
        "</table>\n",
        "\n",
        "* 용어 정리\n",
        "    * TP (True Positive, 진짜 양성): 실제로 양성인 것을 양성으로 맞게 예측한 것.\n",
        "    * FN (False Negative, 가짜 음성): 실제로 양성인 것을 음성으로 틀리게 예측한 것.\n",
        "    * FP (False Positive, 가짜 양성): 실제로 음성인 것을 양성으로 틀리게 예측한 것.\n",
        "    * TN (True Negative, 진짜 음성): 실제로 음성인 것을 음성으로 맞게 예측한 것.\n",
        "\n",
        "* 정확도 (accuracy): 샘플들을 정확하게 분류한 비율. 전체 샘플에서 정답의 비율.\n",
        "> accuracy = (TP + TN) / (TP + FN + FP + TN)\n",
        "\n",
        "* 정밀도 (precision): 양성 예측들 중에서 정답의 비율. 양성으로 예측한 샘플들 중 양성으로 맞게 예측한 샘플들의 비율.\n",
        "> precision = TP / (TP + FP)\n",
        "\n",
        "* 재현율 (Recall): 실제 양성 샘플들 중에서 정답의 비율. 실제로 양성인 샘플들 중 양성으로 맞게 예측한 샘플들의 비율.\n",
        "> recall = TP / (TP + FN)\n",
        "\n",
        "* F1-score: 정밀도와 재현율의 조화 평균(역수들의 평균의 역수)\n",
        "> f1-score: 2 / ((1/precision) + (1/recall))"
      ],
      "metadata": {
        "id": "BO8ISAATYvt_"
      }
    },
    {
      "cell_type": "code",
      "source": [
        "report = classification_report(y_true=y_test, y_pred=test_pred)\n",
        "print(report)"
      ],
      "metadata": {
        "colab": {
          "base_uri": "https://localhost:8080/"
        },
        "id": "n3Di85RSYBhR",
        "outputId": "17089806-1896-4d78-fba8-b2bc231ddaea"
      },
      "execution_count": 77,
      "outputs": [
        {
          "output_type": "stream",
          "name": "stdout",
          "text": [
            "              precision    recall  f1-score   support\n",
            "\n",
            "       Bream       1.00      1.00      1.00        11\n",
            "       Smelt       1.00      1.00      1.00         4\n",
            "\n",
            "    accuracy                           1.00        15\n",
            "   macro avg       1.00      1.00      1.00        15\n",
            "weighted avg       1.00      1.00      1.00        15\n",
            "\n"
          ]
        }
      ]
    },
    {
      "cell_type": "markdown",
      "source": [
        "# 특성 스케일링 (feature scaling)\n",
        "\n",
        "* 표준화(standardization)\n",
        "    * 모든 특성의 평균이 0이고 표준편차가 1이 되도록 스케일을 변환.\n",
        "    * $x_scaled = (x - μ) / σ\n",
        "    * StandardScaler\n",
        "\n",
        "* 정규화(normalization)\n",
        "    * 모든 특성의 최소값이 0, 최대값이 1이 되도록 하는 스케일을 변환.\n",
        "    * x_scaled = (x - min) / (max - min)\n",
        "    * MinMaxScaler \n"
      ],
      "metadata": {
        "id": "SRXoeWCgpF1P"
      }
    },
    {
      "cell_type": "markdown",
      "source": [
        "## 특성 스케일링의 필요성\n",
        "\n",
        "`[150g, 25cm]` 특성을 갖는 가상의 물고기의 예측값?"
      ],
      "metadata": {
        "id": "mjwR_dLFrHc8"
      }
    },
    {
      "cell_type": "code",
      "source": [
        "test_fish = [[150,25]]  # (1,2) shape의 2차원 배열\n",
        "prediction = knn.predict(test_fish)\n",
        "prediction"
      ],
      "metadata": {
        "colab": {
          "base_uri": "https://localhost:8080/"
        },
        "id": "JjLqyJjKjXl0",
        "outputId": "8da1e42f-dbd6-4262-c015-7cf00c86c84c"
      },
      "execution_count": 78,
      "outputs": [
        {
          "output_type": "execute_result",
          "data": {
            "text/plain": [
              "array(['Smelt'], dtype=object)"
            ]
          },
          "metadata": {},
          "execution_count": 78
        }
      ]
    },
    {
      "cell_type": "code",
      "source": [
        "# 훈련 셋, 가상의 테스트 물고기 시각화\n",
        "plt.scatter(X_train[:, 1], X_train[:, 0], label='train')    # 훈련 셋\n",
        "plt.scatter(x=25, y=150, label='unknown', marker='v', color='red')  # 테스트 물고기(25cm, 150g)\n",
        "\n",
        "plt.xlabel('Length (cm)')\n",
        "plt.ylabel('Weight (g)')\n",
        "plt.legend()\n",
        "plt.grid()\n",
        "plt.show()"
      ],
      "metadata": {
        "colab": {
          "base_uri": "https://localhost:8080/",
          "height": 279
        },
        "id": "m3HuxLE0smkc",
        "outputId": "292e8e1e-a8f6-42fd-96b3-3c43fdbbd185"
      },
      "execution_count": 82,
      "outputs": [
        {
          "output_type": "display_data",
          "data": {
            "text/plain": [
              "<Figure size 432x288 with 1 Axes>"
            ],
            "image/png": "[encoded data removed]"
          },
          "metadata": {
            "needs_background": "light"
          }
        }
      ]
    },
    {
      "cell_type": "markdown",
      "source": [
        "* 생선의 두 특성(무게,길이)은 서로 단위(g, cm)가 다르기 때문에 값의 범위가 매우 다름.\n",
        "    * 길이: 0 ~ 50cm, 무게: 0 ~ 1000g\n",
        "    * 특성(변수)들의 스케일이 매우 다름.\n",
        "    * 가장 가까운 이웃을 찾기 위해서 거리를 계산할 때, 생선의 무게가 거리 계산에 더 큰 영향을 미치게 됨.\n",
        "    * 길이의 단위는 cm를 사용하고 무게의 단위를 kg을 사용하게 되면, 길이 스케일은 0 ~ 50cm이고 무게의 스케일은 0 ~ 1kg이 됨.\n",
        "        * 거리 계산에서 길이가 더 큰 영향을 미치게 됨.\n",
        "    * 따라서, 모든 특성(변수)들이 거리 계산에서 비슷하게 영향을 미칠 수 있도록 모든 특성들의 단위를 제거할 필요가 있음.\n",
        "\n",
        "* KNN과 같이 거리 기반의 머신 러닝 알고리즘에선 모델을 훈련하기 전 반드시 모든 특성(변수)들을 비슷한 스케일이 되도록 전처리(preprocessing)를 할 필요가 있음. \n",
        "    * 훈련 셋의 특성들을 사용해서, 훈련 셋과 테스트 셋을 함께 스케일을 변환해야 함.\n",
        "    * 표준화: 훈련 셋의 평균과 표준 편차를 사용해서 훈련 셋과 테스트 셋의 스케일을 변환.\n",
        "    * 정규화: 훈련 셋의 최대값과 최소값을 찾아서 훈련 셋과 테스트 셋의 스케일을 변환."
      ],
      "metadata": {
        "id": "irl0pk8pwvJl"
      }
    },
    {
      "cell_type": "markdown",
      "source": [
        "## 표준화 (Standardization)"
      ],
      "metadata": {
        "id": "tSjsRRui-egL"
      }
    },
    {
      "cell_type": "code",
      "source": [
        "std_scaler = StandardScaler()   # 특성 스케일 변환(표준화) 생성"
      ],
      "metadata": {
        "id": "DPNUdp3HtEKW"
      },
      "execution_count": 83,
      "outputs": []
    },
    {
      "cell_type": "code",
      "source": [
        "std_scaler.fit(X_train) # fit: 훈련 셋(X_train)의 평균과 표준편차를 계산"
      ],
      "metadata": {
        "colab": {
          "base_uri": "https://localhost:8080/"
        },
        "id": "HgT__bNP-j1A",
        "outputId": "23cc74a9-913d-4512-aac8-1bb8d917e126"
      },
      "execution_count": 85,
      "outputs": [
        {
          "output_type": "execute_result",
          "data": {
            "text/plain": [
              "StandardScaler()"
            ]
          },
          "metadata": {},
          "execution_count": 85
        }
      ]
    },
    {
      "cell_type": "code",
      "source": [
        "# scaler의 fit이 끝나면 mean_(평균), var_(분산) 변수가 생김\n",
        "print(std_scaler.mean_)\n",
        "print(std_scaler.var_)"
      ],
      "metadata": {
        "colab": {
          "base_uri": "https://localhost:8080/"
        },
        "id": "-psuJM2a-lwA",
        "outputId": "9271172f-7500-4f97-8867-fa72e4ebb510"
      },
      "execution_count": 86,
      "outputs": [
        {
          "output_type": "stream",
          "name": "stdout",
          "text": [
            "[425.92352941  26.47352941]\n",
            "[1.04229779e+05 1.03194299e+02]\n"
          ]
        }
      ]
    },
    {
      "cell_type": "code",
      "source": [
        "np.mean(X_train, axis=0)"
      ],
      "metadata": {
        "colab": {
          "base_uri": "https://localhost:8080/"
        },
        "id": "FipWR4HE-0SR",
        "outputId": "bca23cb6-1e87-47a1-ded7-da67292fefc6"
      },
      "execution_count": 87,
      "outputs": [
        {
          "output_type": "execute_result",
          "data": {
            "text/plain": [
              "array([425.92352941,  26.47352941])"
            ]
          },
          "metadata": {},
          "execution_count": 87
        }
      ]
    },
    {
      "cell_type": "code",
      "source": [
        "np.var(X_train, axis=0)"
      ],
      "metadata": {
        "colab": {
          "base_uri": "https://localhost:8080/"
        },
        "id": "VjxSDzg2-26K",
        "outputId": "a4d414a3-2fa5-437c-bd78-50b22a13b031"
      },
      "execution_count": 88,
      "outputs": [
        {
          "output_type": "execute_result",
          "data": {
            "text/plain": [
              "array([1.04229779e+05, 1.03194299e+02])"
            ]
          },
          "metadata": {},
          "execution_count": 88
        }
      ]
    },
    {
      "cell_type": "code",
      "source": [
        "X_tr_scaled = std_scaler.transform(X_train)\n",
        "X_tr_scaled[:5, :]  # 훈련 셋의 특성들의 스케일을 변환"
      ],
      "metadata": {
        "colab": {
          "base_uri": "https://localhost:8080/"
        },
        "id": "oWKiFySN_WUj",
        "outputId": "49dcece7-99fc-499d-b079-a4c529c92bd6"
      },
      "execution_count": 92,
      "outputs": [
        {
          "output_type": "execute_result",
          "data": {
            "text/plain": [
              "array([[ 0.89230202,  0.93778693],\n",
              "       [-0.19490239,  0.24870607],\n",
              "       [-0.56969366, -0.10567837],\n",
              "       [-1.28861145, -1.44446404],\n",
              "       [ 0.5391929 ,  0.54402644]])"
            ]
          },
          "metadata": {},
          "execution_count": 92
        }
      ]
    },
    {
      "cell_type": "code",
      "source": [
        "np.mean(X_tr_scaled, axis=0)"
      ],
      "metadata": {
        "colab": {
          "base_uri": "https://localhost:8080/"
        },
        "id": "RX8tdmER_aZh",
        "outputId": "392c9583-1380-4fba-86c9-5b2a559fe024"
      },
      "execution_count": 93,
      "outputs": [
        {
          "output_type": "execute_result",
          "data": {
            "text/plain": [
              "array([-1.95921710e-16,  1.01226217e-16])"
            ]
          },
          "metadata": {},
          "execution_count": 93
        }
      ]
    },
    {
      "cell_type": "code",
      "source": [
        "np.std(X_tr_scaled, axis=0)"
      ],
      "metadata": {
        "colab": {
          "base_uri": "https://localhost:8080/"
        },
        "id": "14m1BhyJAgI1",
        "outputId": "08b31eb4-f7c8-40d4-b10f-e34b72fbb3e1"
      },
      "execution_count": 94,
      "outputs": [
        {
          "output_type": "execute_result",
          "data": {
            "text/plain": [
              "array([1., 1.])"
            ]
          },
          "metadata": {},
          "execution_count": 94
        }
      ]
    },
    {
      "cell_type": "code",
      "source": [
        "X_te_scaled = std_scaler.transform(X_test)  # 테스트 셋의 특성들의 스케일을 변환"
      ],
      "metadata": {
        "id": "ad882FwaAisB"
      },
      "execution_count": 95,
      "outputs": []
    },
    {
      "cell_type": "code",
      "source": [
        "X_te_scaled[:5, :]"
      ],
      "metadata": {
        "colab": {
          "base_uri": "https://localhost:8080/"
        },
        "id": "zhzUQk3tBfgJ",
        "outputId": "c3eec67e-6188-48a0-887b-9b34f2dc2a00"
      },
      "execution_count": 96,
      "outputs": [
        {
          "output_type": "execute_result",
          "data": {
            "text/plain": [
              "array([[-1.25763696, -1.12945564],\n",
              "       [ 1.31355502,  0.93778693],\n",
              "       [ 1.63878711,  1.18388724],\n",
              "       [ 0.60114187,  0.79012675],\n",
              "       [-1.29759405, -1.56259218]])"
            ]
          },
          "metadata": {},
          "execution_count": 96
        }
      ]
    },
    {
      "cell_type": "code",
      "source": [
        "# [150g, 25cm] 가상의 물고기 데이터를 스케일 변환\n",
        "test_fish_scaled = std_scaler.transform(test_fish)\n",
        "print(test_fish_scaled)"
      ],
      "metadata": {
        "colab": {
          "base_uri": "https://localhost:8080/"
        },
        "id": "WVdcpophDbag",
        "outputId": "de980619-47ef-4959-f8ac-dffca78cbfca"
      },
      "execution_count": 99,
      "outputs": [
        {
          "output_type": "stream",
          "name": "stdout",
          "text": [
            "[[-0.85465892 -0.14505442]]\n"
          ]
        }
      ]
    },
    {
      "cell_type": "code",
      "source": [
        "# 스케일이 변환된 훈련 셋, 테스트 셋 시각화\n",
        "plt.scatter(X_tr_scaled[:, 1], X_tr_scaled[:, 0], label='train')\n",
        "plt.scatter(X_te_scaled[:, 1], X_te_scaled[:, 0], label='test')\n",
        "plt.scatter(test_fish_scaled[:, 1], test_fish_scaled[:, 0], marker='v', \n",
        "            label='unknown', color='red')\n",
        "\n",
        "plt.xlabel('Length')\n",
        "plt.ylabel('Weight')\n",
        "plt.grid()\n",
        "plt.legend()\n",
        "plt.show()"
      ],
      "metadata": {
        "colab": {
          "base_uri": "https://localhost:8080/",
          "height": 279
        },
        "id": "dxr7Z_oqBhow",
        "outputId": "27ae309f-5b64-4e24-e1d0-e27d525b05f5"
      },
      "execution_count": 102,
      "outputs": [
        {
          "output_type": "display_data",
          "data": {
            "text/plain": [
              "<Figure size 432x288 with 1 Axes>"
            ],
            "image/png": "[encoded data removed]"
          },
          "metadata": {
            "needs_background": "light"
          }
        }
      ]
    },
    {
      "cell_type": "markdown",
      "source": [
        "### StandardScaler를 적용한 훈련 셋으로 훈련, 예측, 평가"
      ],
      "metadata": {
        "id": "LLV3EO0GE8eN"
      }
    },
    {
      "cell_type": "code",
      "source": [
        "knn = KNeighborsClassifier()    # 모델 생성"
      ],
      "metadata": {
        "id": "eun5yEqSCk2l"
      },
      "execution_count": 103,
      "outputs": []
    },
    {
      "cell_type": "code",
      "source": [
        "knn.fit(X_tr_scaled, y_train)   # 모델 훈련"
      ],
      "metadata": {
        "colab": {
          "base_uri": "https://localhost:8080/"
        },
        "id": "HI07fqKZFEXO",
        "outputId": "cc7d51ca-9d55-45a3-f00e-7fc01f50c2a7"
      },
      "execution_count": 104,
      "outputs": [
        {
          "output_type": "execute_result",
          "data": {
            "text/plain": [
              "KNeighborsClassifier()"
            ]
          },
          "metadata": {},
          "execution_count": 104
        }
      ]
    },
    {
      "cell_type": "code",
      "source": [
        "knn.score(X_tr_scaled, y_train) # 훈련 셋의 정확도"
      ],
      "metadata": {
        "colab": {
          "base_uri": "https://localhost:8080/"
        },
        "id": "_8-s1oYCFMU9",
        "outputId": "a78e18fd-271c-4d70-b63a-5a66435a77da"
      },
      "execution_count": 106,
      "outputs": [
        {
          "output_type": "execute_result",
          "data": {
            "text/plain": [
              "1.0"
            ]
          },
          "metadata": {},
          "execution_count": 106
        }
      ]
    },
    {
      "cell_type": "code",
      "source": [
        "knn.score(X_te_scaled, y_test)  # 테스트 셋의 정확도"
      ],
      "metadata": {
        "colab": {
          "base_uri": "https://localhost:8080/"
        },
        "id": "9vBLs0K1FV_n",
        "outputId": "abbb84c2-9b65-4dc8-9b3d-1ccbdf2607aa"
      },
      "execution_count": 108,
      "outputs": [
        {
          "output_type": "execute_result",
          "data": {
            "text/plain": [
              "1.0"
            ]
          },
          "metadata": {},
          "execution_count": 108
        }
      ]
    },
    {
      "cell_type": "code",
      "source": [
        "# [150, 25] 가상의 물고기의 예측값\n",
        "knn.predict(test_fish_scaled)"
      ],
      "metadata": {
        "colab": {
          "base_uri": "https://localhost:8080/"
        },
        "id": "7KODYohRFbl6",
        "outputId": "a93a653f-7327-4edf-bb60-ae2d30c99df1"
      },
      "execution_count": 109,
      "outputs": [
        {
          "output_type": "execute_result",
          "data": {
            "text/plain": [
              "array(['Bream'], dtype=object)"
            ]
          },
          "metadata": {},
          "execution_count": 109
        }
      ]
    },
    {
      "cell_type": "markdown",
      "source": [
        "## 정규화 (Normalization)"
      ],
      "metadata": {
        "id": "oRRqN-l0JtsK"
      }
    },
    {
      "cell_type": "code",
      "source": [
        "norm_scaler = MinMaxScaler()    # 정규화 변환기 생성"
      ],
      "metadata": {
        "id": "1LbLDwIJGE_F"
      },
      "execution_count": 110,
      "outputs": []
    },
    {
      "cell_type": "code",
      "source": [
        "# 정규화를 하기 위해서 훈련 셋의 최대값과 최소값을 찾음.\n",
        "# (1) norm_scaler.fit(X_train)\n",
        "# (2) norm_scaler.transform(X_train)\n",
        "X_tr_norm = norm_scaler.fit_transform(X_train)    "
      ],
      "metadata": {
        "id": "sXnsyEgZJ1yT"
      },
      "execution_count": 114,
      "outputs": []
    },
    {
      "cell_type": "code",
      "source": [
        "norm_scaler.data_max_   # 훈련 셋에서 찾은 [무게, 길이]의 최대값"
      ],
      "metadata": {
        "colab": {
          "base_uri": "https://localhost:8080/"
        },
        "id": "rz9sW5iWKdub",
        "outputId": "e7dd9d8e-1954-4275-ac73-577a2d03779e"
      },
      "execution_count": 115,
      "outputs": [
        {
          "output_type": "execute_result",
          "data": {
            "text/plain": [
              "array([1000.,   41.])"
            ]
          },
          "metadata": {},
          "execution_count": 115
        }
      ]
    },
    {
      "cell_type": "code",
      "source": [
        "norm_scaler.data_min_   # 훈련 셋에서 찾은 [무게, 길이]의 최소값"
      ],
      "metadata": {
        "colab": {
          "base_uri": "https://localhost:8080/"
        },
        "id": "GDXMLWCaLbUF",
        "outputId": "0cd6799a-032f-4ae6-c8bc-29eb2f26cb8c"
      },
      "execution_count": 116,
      "outputs": [
        {
          "output_type": "execute_result",
          "data": {
            "text/plain": [
              "array([6.7, 9.8])"
            ]
          },
          "metadata": {},
          "execution_count": 116
        }
      ]
    },
    {
      "cell_type": "code",
      "source": [
        "# 훈련 셋에서 찾은 최대값과 최소값으로 테스트 셋을 정규화\n",
        "X_te_norm = norm_scaler.transform(X_test)"
      ],
      "metadata": {
        "id": "rU4et_SmLdLW"
      },
      "execution_count": 117,
      "outputs": []
    },
    {
      "cell_type": "code",
      "source": [
        "# [150g, 25cm] 가상의 물고기 정규화\n",
        "test_fish_norm = norm_scaler.transform(test_fish)"
      ],
      "metadata": {
        "id": "-t4XPxr7McwO"
      },
      "execution_count": 118,
      "outputs": []
    },
    {
      "cell_type": "code",
      "source": [
        "# 정규화된 훈련 셋, 테스트 셋 시각화\n",
        "plt.scatter(X_tr_norm[:, 1], X_tr_norm[:, 0], label='train')\n",
        "plt.scatter(X_te_norm[:, 1], X_te_norm[:, 0], label='test')\n",
        "plt.scatter(test_fish_norm[:, 1], test_fish_norm[:, 0], label='unknown', \n",
        "            marker='v', color='red')\n",
        "plt.xlabel('Length')\n",
        "plt.ylabel('Weight')\n",
        "plt.legend()\n",
        "plt.grid()\n",
        "plt.show()"
      ],
      "metadata": {
        "colab": {
          "base_uri": "https://localhost:8080/",
          "height": 279
        },
        "id": "zsyDGNE3Mkrp",
        "outputId": "4c2f15ed-32af-467c-e30e-48ec7ab80711"
      },
      "execution_count": 120,
      "outputs": [
        {
          "output_type": "display_data",
          "data": {
            "text/plain": [
              "<Figure size 432x288 with 1 Axes>"
            ],
            "image/png": "[encoded data removed]"
          },
          "metadata": {
            "needs_background": "light"
          }
        }
      ]
    },
    {
      "cell_type": "markdown",
      "source": [
        "### 정규화가 된 훈련 셋 훈련, 예측, 평가"
      ],
      "metadata": {
        "id": "VikoxEiBN3Ei"
      }
    },
    {
      "cell_type": "code",
      "source": [
        "knn = KNeighborsClassifier()    #  모델 생성"
      ],
      "metadata": {
        "id": "lTgrbLSNNETH"
      },
      "execution_count": 121,
      "outputs": []
    },
    {
      "cell_type": "code",
      "source": [
        "knn.fit(X_tr_norm, y_train) # 정규화를 한 훈련 셋으로 모델을 훈련"
      ],
      "metadata": {
        "colab": {
          "base_uri": "https://localhost:8080/"
        },
        "id": "eFhImdwBN8EG",
        "outputId": "30954562-ce70-4ed6-ead0-e541ad6fddfb"
      },
      "execution_count": 122,
      "outputs": [
        {
          "output_type": "execute_result",
          "data": {
            "text/plain": [
              "KNeighborsClassifier()"
            ]
          },
          "metadata": {},
          "execution_count": 122
        }
      ]
    },
    {
      "cell_type": "code",
      "source": [
        "knn.score(X_tr_norm, y_train)   # 훈련 셋 정확도"
      ],
      "metadata": {
        "colab": {
          "base_uri": "https://localhost:8080/"
        },
        "id": "eWSt_Il8N_ck",
        "outputId": "890e4caf-2272-4379-8b2c-ec9a919a9686"
      },
      "execution_count": 123,
      "outputs": [
        {
          "output_type": "execute_result",
          "data": {
            "text/plain": [
              "1.0"
            ]
          },
          "metadata": {},
          "execution_count": 123
        }
      ]
    },
    {
      "cell_type": "code",
      "source": [
        "knn.score(X_te_norm, y_test)    # 테스트 셋 정확도"
      ],
      "metadata": {
        "colab": {
          "base_uri": "https://localhost:8080/"
        },
        "id": "ivPqYttsOCXL",
        "outputId": "b3857635-54be-4600-f82c-1d8fbf8ebfa4"
      },
      "execution_count": 124,
      "outputs": [
        {
          "output_type": "execute_result",
          "data": {
            "text/plain": [
              "1.0"
            ]
          },
          "metadata": {},
          "execution_count": 124
        }
      ]
    },
    {
      "cell_type": "code",
      "source": [
        "# 가상의 물고기 데이터의 예측값\n",
        "knn.predict(test_fish_norm)"
      ],
      "metadata": {
        "colab": {
          "base_uri": "https://localhost:8080/"
        },
        "id": "mYZI_-wlOE70",
        "outputId": "a7f87016-7f9a-434e-e64c-e924d5f2815f"
      },
      "execution_count": 125,
      "outputs": [
        {
          "output_type": "execute_result",
          "data": {
            "text/plain": [
              "array(['Bream'], dtype=object)"
            ]
          },
          "metadata": {},
          "execution_count": 125
        }
      ]
    },
    {
      "cell_type": "markdown",
      "source": [
        "# 과제:\n",
        "* scikit-learn 패키지의 iris 예제 데이터 셋을 로드.\n",
        "* iris 데이터 탐색\n",
        "* 데이터 셋을 훈련 셋과 테스트 셋으로 분리\n",
        "* KNN 분류기 생성\n",
        "* 모델 훈련\n",
        "* 훈련 셋 평가(정확도), 테스트 셋 평가(정확도)\n",
        "    * confusion matrix, 분류 리포트 출력\n",
        "* KNN 모델의 k값을 변화시키면서, 모델 훈련/평가를 반복.\n",
        "    * 테스트 셋에서 가장 좋은 결과를 주는 k값을 찾음."
      ],
      "metadata": {
        "id": "dGFygdYlTwZA"
      }
    },
    {
      "cell_type": "code",
      "source": [
        ""
      ],
      "metadata": {
        "id": "bKZO_yFUOUZm"
      },
      "execution_count": null,
      "outputs": []
    }
  ]
}