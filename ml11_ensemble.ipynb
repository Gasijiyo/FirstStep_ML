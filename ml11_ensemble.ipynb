{
  "nbformat": 4,
  "nbformat_minor": 0,
  "metadata": {
    "colab": {
      "name": "ml11_ensemble.ipynb",
      "provenance": [],
      "collapsed_sections": [],
      "authorship_tag": "ABX9TyP20fPlix0QQGSHjBGVoqVR",
      "include_colab_link": true
    },
    "kernelspec": {
      "name": "python3",
      "display_name": "Python 3"
    },
    "language_info": {
      "name": "python"
    }
  },
  "cells": [
    {
      "cell_type": "markdown",
      "metadata": {
        "id": "view-in-github",
        "colab_type": "text"
      },
      "source": [
        "<a href=\"https://colab.research.google.com/github/Gasijiyo/FirstStep_ML/blob/master/ml11_ensemble.ipynb\" target=\"_parent\"><img src=\"https://colab.research.google.com/assets/colab-badge.svg\" alt=\"Open In Colab\"/></a>"
      ]
    },
    {
      "cell_type": "markdown",
      "source": [
        "# Ensemble Learning (앙상블 학습 방법)\n",
        "\n",
        "* 앙상블(ensemble): 머신 러닝에서 사용되는 일련의 모델(알고리즘)들.\n",
        "    * 서로 다른 모델 여러개를 학습시키는 방법.\n",
        "    * 한 가지 모델을 서로 다른 훈련 셋에서 학습시키는 방법.\n",
        "* 앙상블 학습 방법:\n",
        "    * 투표(voting) 방식: 여러 모델을 학습시켜서 각각의 예측값들을 투표(다수결) 또는 평균값으로 예측하는 방식\n",
        "    * __Bagging(Bootstrap Aggregating)__: 중복을 허용해서 샘플링한 훈련 셋의 부분집합들을 하나의 알고리즘에 학습시켜서 예측(다수결, 평균)하는 방법.\n",
        "    * Pasting: 중복을 허용하지 않고 샘플링한 훈련 셋의 부분집합들을 하나의 알고리즘에 학습시켜서 예측하는 방법.\n",
        "* __Random Forest__: Bagging을 사용한 Decision Tree들의 Ensemble 학습 방법."
      ],
      "metadata": {
        "id": "jItr4nb-LoGk"
      }
    },
    {
      "cell_type": "markdown",
      "source": [
        "# Imports"
      ],
      "metadata": {
        "id": "5Tct4wh_SCCE"
      }
    },
    {
      "cell_type": "code",
      "execution_count": null,
      "metadata": {
        "id": "WEed_yA2Ll16"
      },
      "outputs": [],
      "source": [
        "import numpy as np\n",
        "import pandas as pd\n",
        "import matplotlib.pyplot as plt\n",
        "\n",
        "from sklearn.datasets import make_moons\n",
        "from sklearn.model_selection import train_test_split, cross_validate, cross_val_score\n",
        "from sklearn.neighbors import KNeighborsClassifier\n",
        "from sklearn.linear_model import LogisticRegression, SGDClassifier\n",
        "from sklearn.tree import DecisionTreeClassifier\n",
        "from sklearn.svm import SVC # SVM (Support Vector Machine)을 사용한 분류 알고리즘.\n",
        "from sklearn.ensemble import VotingClassifier, BaggingClassifier, RandomForestClassifier    "
      ]
    },
    {
      "cell_type": "markdown",
      "source": [
        "# Datasets 준비\n",
        "\n",
        "2개의 특성(x1, x2)과 2개 클래스(0, 1)를 갖는 가상의 데이터 셋 - 분류(classification) 문제"
      ],
      "metadata": {
        "id": "xC78BOcsTJ30"
      }
    },
    {
      "cell_type": "code",
      "source": [
        "# X: 특성 행렬(2차원 배열), y: 레이블 배열\n",
        "X, y = make_moons(n_samples=500, noise=0.3, random_state=42)"
      ],
      "metadata": {
        "id": "hvnh08b6TJUv"
      },
      "execution_count": null,
      "outputs": []
    },
    {
      "cell_type": "code",
      "source": [
        "X.shape, y.shape"
      ],
      "metadata": {
        "colab": {
          "base_uri": "https://localhost:8080/"
        },
        "id": "V0TziZP_Tie9",
        "outputId": "e2065e95-89d3-4d95-e45e-f8023e714238"
      },
      "execution_count": null,
      "outputs": [
        {
          "output_type": "execute_result",
          "data": {
            "text/plain": [
              "((500, 2), (500,))"
            ]
          },
          "metadata": {},
          "execution_count": 3
        }
      ]
    },
    {
      "cell_type": "code",
      "source": [
        "np.unique(y, return_counts=True)"
      ],
      "metadata": {
        "colab": {
          "base_uri": "https://localhost:8080/"
        },
        "id": "dYIfniSjTlwB",
        "outputId": "08280a77-5652-4b65-9d6d-19d09586610a"
      },
      "execution_count": null,
      "outputs": [
        {
          "output_type": "execute_result",
          "data": {
            "text/plain": [
              "(array([0, 1]), array([250, 250]))"
            ]
          },
          "metadata": {},
          "execution_count": 4
        }
      ]
    },
    {
      "cell_type": "code",
      "source": [
        "# 데이터 셋 시각화\n",
        "plt.scatter(X[y == 0,0], X[y == 0, 1], label='class-0')\n",
        "plt.scatter(X[y == 1,0], X[y == 1,1], label='class-1')\n",
        "\n",
        "plt.legend()\n",
        "plt.grid()\n",
        "plt.show()"
      ],
      "metadata": {
        "colab": {
          "base_uri": "https://localhost:8080/",
          "height": 265
        },
        "id": "fos1OejtUGiU",
        "outputId": "a510353d-086e-40ed-f7e9-48c8ebd1fcb3"
      },
      "execution_count": null,
      "outputs": [
        {
          "output_type": "display_data",
          "data": {
            "text/plain": [
              "<Figure size 432x288 with 1 Axes>"
            ],
            "image/png": "[encoded data removed]"
          },
          "metadata": {
            "needs_background": "light"
          }
        }
      ]
    },
    {
      "cell_type": "code",
      "source": [
        "# 훈련 / 테스트 셋 분리\n",
        "X_train, X_test, y_train, y_test = train_test_split(X, y, test_size=0.2,\n",
        "                                                    stratify=y, random_state=42)"
      ],
      "metadata": {
        "id": "KrynueSVUhkQ"
      },
      "execution_count": null,
      "outputs": []
    },
    {
      "cell_type": "markdown",
      "source": [
        "# 머신 러닝 모델 비교\n",
        "\n",
        "* 여러개의 머신 러닝 모델들을 훈련 셋(X_train, y_train)으로 학습시킴.\n",
        "    * KNN, Logistic Regression, SGD, Decision Tree, SVM\n",
        "* 훈련된 각 모델의 교차 검증 점수(정확도)를 계산, 평가"
      ],
      "metadata": {
        "id": "qWVZtcnlZtzt"
      }
    },
    {
      "cell_type": "code",
      "source": [
        "knn = KNeighborsClassifier(n_jobs=-1)\n",
        "log_reg = LogisticRegression(random_state=42, n_jobs=-1)\n",
        "sgd = SGDClassifier(loss='log', random_state=42, n_jobs=-1) \n",
        "# log 인 이유: 분류 확률 계산할 필요 있음.\n",
        "tree = DecisionTreeClassifier(random_state=42)\n",
        "svm = SVC(probability=True, random_state=42)"
      ],
      "metadata": {
        "id": "gVEhi4pQWGf7"
      },
      "execution_count": null,
      "outputs": []
    },
    {
      "cell_type": "code",
      "source": [
        "classifiers = [knn, log_reg, sgd, tree, svm]\n",
        "for clf in classifiers:\n",
        "    cv = cross_validate(estimator=clf, X=X_train, y=y_train, cv=5, n_jobs=-1)\n",
        "    score = np.mean(cv['test_score'])\n",
        "    print(clf.__class__.__name__, 'acc.:', score)"
      ],
      "metadata": {
        "colab": {
          "base_uri": "https://localhost:8080/"
        },
        "id": "BWcdwEy_cOvj",
        "outputId": "2ebe3d23-1131-4e94-da4e-8ceefc59663d"
      },
      "execution_count": null,
      "outputs": [
        {
          "output_type": "stream",
          "name": "stdout",
          "text": [
            "KNeighborsClassifier acc.: 0.9099999999999999\n",
            "LogisticRegression acc.: 0.845\n",
            "SGDClassifier acc.: 0.8375\n",
            "DecisionTreeClassifier acc.: 0.8925000000000001\n",
            "SVC acc.: 0.9225\n"
          ]
        }
      ]
    },
    {
      "cell_type": "markdown",
      "source": [
        "# Voting Ensemble"
      ],
      "metadata": {
        "id": "65VvqQXlg9g3"
      }
    },
    {
      "cell_type": "code",
      "source": [
        "voting = VotingClassifier(estimators=[('knn', knn),\n",
        "                                      ('log_reg', log_reg),\n",
        "                                      ('sgd', sgd),\n",
        "                                      ('tree', tree),\n",
        "                                      ('svm', svm)],\n",
        "                          voting='soft', n_jobs=-1)\n",
        "# VotingClassifier 파라미터\n",
        "#> estimators: 투표 방식 앙상블을 만들기 위한 ML 모델들의 리스트\n",
        "#> voting: 투표 방식\n",
        "#>> hard: 모든 앙상블들이 동일하게 1표씩 행사, 예측 확률을 계산할 필요 없음\n",
        "#>> soft: 각 모델의 예측값에 각 모델에서 예측된 예측확률을 가중치로 곱한 값을 사용해서 예측.\n",
        "# 일반적으로 soft voting 이 hard voting 보다 성능이 더 좋다고 알려져 있음."
      ],
      "metadata": {
        "id": "O9K2JTtIdusi"
      },
      "execution_count": null,
      "outputs": []
    },
    {
      "cell_type": "code",
      "source": [
        "cv = cross_validate(estimator=voting, X=X_train, y=y_train, cv=5, n_jobs=-1)"
      ],
      "metadata": {
        "id": "a7c7J05CkH5s"
      },
      "execution_count": null,
      "outputs": []
    },
    {
      "cell_type": "code",
      "source": [
        "np.mean(cv['test_score'])"
      ],
      "metadata": {
        "colab": {
          "base_uri": "https://localhost:8080/"
        },
        "id": "pR0IQ5xpkhhT",
        "outputId": "2abae803-71f6-4373-9171-eb74b7b7126c"
      },
      "execution_count": null,
      "outputs": [
        {
          "output_type": "execute_result",
          "data": {
            "text/plain": [
              "0.9075000000000001"
            ]
          },
          "metadata": {},
          "execution_count": 13
        }
      ]
    },
    {
      "cell_type": "markdown",
      "source": [
        "# Bagging(Bootstrap Aggregating) Ensemble"
      ],
      "metadata": {
        "id": "npyyplhHnxSl"
      }
    },
    {
      "cell_type": "code",
      "source": [
        "bagging = BaggingClassifier(base_estimator=DecisionTreeClassifier(random_state=42),\n",
        "                            n_estimators=50,\n",
        "                            max_samples=100,\n",
        "                            bootstrap=True,\n",
        "                            oob_score=True,\n",
        "                            n_jobs=-1,\n",
        "                            random_state=42)"
      ],
      "metadata": {
        "id": "fniysd3oklLL"
      },
      "execution_count": null,
      "outputs": []
    },
    {
      "cell_type": "markdown",
      "source": [
        "BaggingClassifier 파라미터:\n",
        "\n",
        "* base_estimator: 기본 예측기. 머신 러닝 알고리즘(모델) 객체.\n",
        "* n_estimator: 앙상블을 만드는 예측기(머신 러닝 모델)의 개수.\n",
        "* max_samples: 훈련 셋의 부분 집합이 가질 수 있는 최대 샘플 개수(정수) 또는 비율. (0 ~ 1.0)\n",
        "* bootstrap: True(중복 허용 샘플링), False(중복 허용하지 않고 샘플링 - pasting).\n",
        "* oob_score: True(OOB 샘플들로 평가 점수 계산), False(OOB 샘플들로 평가 점수를 계산하지 않음). 기본값은 False.\n",
        "    * OOB(Out of Bagging) 샘플: 중복 허용해서 샘플링하는 (부분집합을 만드는)동안에 한번도 샘플링 되지 못하고 남아 있는 훈련 셋의 샘플들. 앙상블 학습 동안에 한번도 학습에 사용되지 못한 샘플들.\n",
        "    * OOB 샘플은 검증 셋(validation set)의 역할을 할 수 있음.\n",
        "    * 테스트 셋에서의 점수를 예상할 수 있음."
      ],
      "metadata": {
        "id": "gvw3DaGMoMH1"
      }
    },
    {
      "cell_type": "code",
      "source": [
        "bagging.fit(X_train, y_train)   # bagging ensemble 모델 훈련"
      ],
      "metadata": {
        "colab": {
          "base_uri": "https://localhost:8080/"
        },
        "id": "LgAFhr8moI7y",
        "outputId": "f89543c7-9302-46f6-de1a-f116a95606af"
      },
      "execution_count": null,
      "outputs": [
        {
          "output_type": "execute_result",
          "data": {
            "text/plain": [
              "BaggingClassifier(base_estimator=DecisionTreeClassifier(random_state=42),\n",
              "                  max_samples=100, n_estimators=50, n_jobs=-1, oob_score=True,\n",
              "                  random_state=42)"
            ]
          },
          "metadata": {},
          "execution_count": 15
        }
      ]
    },
    {
      "cell_type": "code",
      "source": [
        "bagging.oob_score_  # OOB샘플들로 계산한 정확도 --> 보통 테스트 점수와 비슷."
      ],
      "metadata": {
        "colab": {
          "base_uri": "https://localhost:8080/"
        },
        "id": "5sSYSXvurQJ2",
        "outputId": "b33166e7-3113-4108-9523-e1c30f8ec274"
      },
      "execution_count": null,
      "outputs": [
        {
          "output_type": "execute_result",
          "data": {
            "text/plain": [
              "0.91"
            ]
          },
          "metadata": {},
          "execution_count": 16
        }
      ]
    },
    {
      "cell_type": "code",
      "source": [
        "bagging.score(X_test, y_test)"
      ],
      "metadata": {
        "colab": {
          "base_uri": "https://localhost:8080/"
        },
        "id": "g48kfMqBr6re",
        "outputId": "ef109ca1-bba5-4971-8d43-a3253cda23ed"
      },
      "execution_count": null,
      "outputs": [
        {
          "output_type": "execute_result",
          "data": {
            "text/plain": [
              "0.9"
            ]
          },
          "metadata": {},
          "execution_count": 17
        }
      ]
    },
    {
      "cell_type": "markdown",
      "source": [
        "# Random Forest\n",
        "\n",
        "Decision Tree들을 사용하는 Bagging ensemble 학습방법."
      ],
      "metadata": {
        "id": "dlbvy7YZsBaF"
      }
    },
    {
      "cell_type": "code",
      "source": [
        "# Random Forest 분류기 객체 생성\n",
        "forest = RandomForestClassifier(n_estimators=50, max_samples=100, oob_score=True, \n",
        "                                n_jobs=-1, random_state=42)"
      ],
      "metadata": {
        "id": "c8bwsT-msAid"
      },
      "execution_count": null,
      "outputs": []
    },
    {
      "cell_type": "code",
      "source": [
        "# 모델 훈련\n",
        "forest.fit(X_train, y_train)"
      ],
      "metadata": {
        "colab": {
          "base_uri": "https://localhost:8080/"
        },
        "id": "n9IFfLa3tKzW",
        "outputId": "310467a2-09c3-4792-e1bb-f9e0e794aefb"
      },
      "execution_count": null,
      "outputs": [
        {
          "output_type": "execute_result",
          "data": {
            "text/plain": [
              "RandomForestClassifier(max_samples=100, n_estimators=50, n_jobs=-1,\n",
              "                       oob_score=True, random_state=42)"
            ]
          },
          "metadata": {},
          "execution_count": 19
        }
      ]
    },
    {
      "cell_type": "code",
      "source": [
        "# OOB 점수\n",
        "forest.oob_score_"
      ],
      "metadata": {
        "colab": {
          "base_uri": "https://localhost:8080/"
        },
        "id": "HuZg7ax2tN_s",
        "outputId": "9453d668-6970-4b41-ae72-bb1195dee352"
      },
      "execution_count": null,
      "outputs": [
        {
          "output_type": "execute_result",
          "data": {
            "text/plain": [
              "0.9125"
            ]
          },
          "metadata": {},
          "execution_count": 20
        }
      ]
    },
    {
      "cell_type": "code",
      "source": [
        ""
      ],
      "metadata": {
        "id": "DJELG08YtQX6"
      },
      "execution_count": null,
      "outputs": []
    }
  ]
}