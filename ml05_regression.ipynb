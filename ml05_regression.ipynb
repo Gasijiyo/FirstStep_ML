{
  "nbformat": 4,
  "nbformat_minor": 0,
  "metadata": {
    "colab": {
      "name": "ml05_regression.ipynb",
      "provenance": [],
      "collapsed_sections": [],
      "authorship_tag": "ABX9TyMZvD/9W5hfXPu068Ym2Mgi",
      "include_colab_link": true
    },
    "kernelspec": {
      "name": "python3",
      "display_name": "Python 3"
    },
    "language_info": {
      "name": "python"
    }
  },
  "cells": [
    {
      "cell_type": "markdown",
      "metadata": {
        "id": "view-in-github",
        "colab_type": "text"
      },
      "source": [
        "<a href=\"https://colab.research.google.com/github/Gasijiyo/FirstStep_ML/blob/master/ml05_regression.ipynb\" target=\"_parent\"><img src=\"https://colab.research.google.com/assets/colab-badge.svg\" alt=\"Open In Colab\"/></a>"
      ]
    },
    {
      "cell_type": "markdown",
      "source": [
        "Machine Learning(기계 학습)\n",
        "\n",
        "* __지도 학습(supervised learning)__: 레이블이 있는 데이터로 모델을 훈련시키는 것.\n",
        "    * __분류(classfication)__: 클래스를 분류.\n",
        "    * __회귀(regression)__: 숫자 값을 예측.\n",
        "* __비지도 학습(unsupervised learning)__: 레이블이 없는 데이터로 모델을 훈련시키는 것.\n",
        "* __강화 학습(reinforcement learning)__: 보상과 벌칙을 통해서 학습(훈련). 신경망분야 (딥러닝)\n"
      ],
      "metadata": {
        "id": "HY5ehGZNRl8A"
      }
    },
    {
      "cell_type": "markdown",
      "source": [
        "# 문제 정의\n",
        "\n",
        "fish 데이터 셋에서 농어(perch)의 무게(Weight)를 예측.\n",
        "* 농어의 길이(Length)로만 무게(Weight)를 예측.\n",
        "* 농어의 여러가지 특성들(Length, Diagonal, ...)로 무게를 예측."
      ],
      "metadata": {
        "id": "nvIOu43gU5Cx"
      }
    },
    {
      "cell_type": "markdown",
      "source": [
        "# imports"
      ],
      "metadata": {
        "id": "BehJ0WWZWI7J"
      }
    },
    {
      "cell_type": "code",
      "execution_count": 148,
      "metadata": {
        "id": "ppTr2vAyRjl8"
      },
      "outputs": [],
      "source": [
        "import numpy as np\n",
        "import pandas as pd\n",
        "import matplotlib.pyplot as plt\n",
        "import seaborn as sns\n",
        "\n",
        "from sklearn.model_selection import train_test_split\n",
        "from sklearn.neighbors import KNeighborsRegressor   # KNN알고리즘을 사용한 예측기\n",
        "from sklearn.linear_model import LinearRegression   # 선형회귀 알고리즘을 사용한 예측기\n",
        "from sklearn.metrics import mean_squared_error, mean_absolute_error, r2_score # 회귀 문제에서의 평가 지표\n",
        "from sklearn.preprocessing import PolynomialFeatures, StandardScaler    # 전처리 변환기 클래스\n",
        "from sklearn.pipeline import Pipeline   # 변환기 추정기(예측기)를 연결해 주는 클래스\n",
        "# 소문자 모듈이름, 대문자 클래스이름\n"
      ]
    },
    {
      "cell_type": "markdown",
      "source": [
        "# 데이터 준비"
      ],
      "metadata": {
        "id": "KcYl__WhYhFy"
      }
    },
    {
      "cell_type": "code",
      "source": [
        "fish_csv = 'https://github.com/JakeOh/202110_itw_lab_python/raw/main/fish.csv'"
      ],
      "metadata": {
        "id": "YTAVTmENYWdt"
      },
      "execution_count": 2,
      "outputs": []
    },
    {
      "cell_type": "code",
      "source": [
        "fish = pd.read_csv(fish_csv)"
      ],
      "metadata": {
        "id": "UY_p79rPYupg"
      },
      "execution_count": 3,
      "outputs": []
    },
    {
      "cell_type": "code",
      "source": [
        "fish.info()"
      ],
      "metadata": {
        "colab": {
          "base_uri": "https://localhost:8080/"
        },
        "id": "QFsBCMYUY0oA",
        "outputId": "a72770da-a5ca-4675-e842-c011020c6920"
      },
      "execution_count": 4,
      "outputs": [
        {
          "output_type": "stream",
          "name": "stdout",
          "text": [
            "<class 'pandas.core.frame.DataFrame'>\n",
            "RangeIndex: 159 entries, 0 to 158\n",
            "Data columns (total 6 columns):\n",
            " #   Column    Non-Null Count  Dtype  \n",
            "---  ------    --------------  -----  \n",
            " 0   Species   159 non-null    object \n",
            " 1   Weight    159 non-null    float64\n",
            " 2   Length    159 non-null    float64\n",
            " 3   Diagonal  159 non-null    float64\n",
            " 4   Height    159 non-null    float64\n",
            " 5   Width     159 non-null    float64\n",
            "dtypes: float64(5), object(1)\n",
            "memory usage: 7.6+ KB\n"
          ]
        }
      ]
    },
    {
      "cell_type": "code",
      "source": [
        "fish.head()"
      ],
      "metadata": {
        "colab": {
          "base_uri": "https://localhost:8080/",
          "height": 206
        },
        "id": "eK0IladtY9SN",
        "outputId": "1b5c4d0d-43b6-4a8b-ba4b-6dbf53d1568d"
      },
      "execution_count": 5,
      "outputs": [
        {
          "output_type": "execute_result",
          "data": {
            "text/plain": [
              "  Species  Weight  Length  Diagonal   Height   Width\n",
              "0   Bream   242.0    25.4      30.0  11.5200  4.0200\n",
              "1   Bream   290.0    26.3      31.2  12.4800  4.3056\n",
              "2   Bream   340.0    26.5      31.1  12.3778  4.6961\n",
              "3   Bream   363.0    29.0      33.5  12.7300  4.4555\n",
              "4   Bream   430.0    29.0      34.0  12.4440  5.1340"
            ],
            "text/html": [
              "\n",
              "  <div id=\"df-536a0f99-0c29-4f07-9a71-01623f98345b\">\n",
              "    <div class=\"colab-df-container\">\n",
              "      <div>\n",
              "<style scoped>\n",
              "    .dataframe tbody tr th:only-of-type {\n",
              "        vertical-align: middle;\n",
              "    }\n",
              "\n",
              "    .dataframe tbody tr th {\n",
              "        vertical-align: top;\n",
              "    }\n",
              "\n",
              "    .dataframe thead th {\n",
              "        text-align: right;\n",
              "    }\n",
              "</style>\n",
              "<table border=\"1\" class=\"dataframe\">\n",
              "  <thead>\n",
              "    <tr style=\"text-align: right;\">\n",
              "      <th></th>\n",
              "      <th>Species</th>\n",
              "      <th>Weight</th>\n",
              "      <th>Length</th>\n",
              "      <th>Diagonal</th>\n",
              "      <th>Height</th>\n",
              "      <th>Width</th>\n",
              "    </tr>\n",
              "  </thead>\n",
              "  <tbody>\n",
              "    <tr>\n",
              "      <th>0</th>\n",
              "      <td>Bream</td>\n",
              "      <td>242.0</td>\n",
              "      <td>25.4</td>\n",
              "      <td>30.0</td>\n",
              "      <td>11.5200</td>\n",
              "      <td>4.0200</td>\n",
              "    </tr>\n",
              "    <tr>\n",
              "      <th>1</th>\n",
              "      <td>Bream</td>\n",
              "      <td>290.0</td>\n",
              "      <td>26.3</td>\n",
              "      <td>31.2</td>\n",
              "      <td>12.4800</td>\n",
              "      <td>4.3056</td>\n",
              "    </tr>\n",
              "    <tr>\n",
              "      <th>2</th>\n",
              "      <td>Bream</td>\n",
              "      <td>340.0</td>\n",
              "      <td>26.5</td>\n",
              "      <td>31.1</td>\n",
              "      <td>12.3778</td>\n",
              "      <td>4.6961</td>\n",
              "    </tr>\n",
              "    <tr>\n",
              "      <th>3</th>\n",
              "      <td>Bream</td>\n",
              "      <td>363.0</td>\n",
              "      <td>29.0</td>\n",
              "      <td>33.5</td>\n",
              "      <td>12.7300</td>\n",
              "      <td>4.4555</td>\n",
              "    </tr>\n",
              "    <tr>\n",
              "      <th>4</th>\n",
              "      <td>Bream</td>\n",
              "      <td>430.0</td>\n",
              "      <td>29.0</td>\n",
              "      <td>34.0</td>\n",
              "      <td>12.4440</td>\n",
              "      <td>5.1340</td>\n",
              "    </tr>\n",
              "  </tbody>\n",
              "</table>\n",
              "</div>\n",
              "      <button class=\"colab-df-convert\" onclick=\"convertToInteractive('df-536a0f99-0c29-4f07-9a71-01623f98345b')\"\n",
              "              title=\"Convert this dataframe to an interactive table.\"\n",
              "              style=\"display:none;\">\n",
              "        \n",
              "  <svg xmlns=\"http://www.w3.org/2000/svg\" height=\"24px\"viewBox=\"0 0 24 24\"\n",
              "       width=\"24px\">\n",
              "    <path d=\"M0 0h24v24H0V0z\" fill=\"none\"/>\n",
              "    <path d=\"M18.56 5.44l.94 2.06.94-2.06 2.06-.94-2.06-.94-.94-2.06-.94 2.06-2.06.94zm-11 1L8.5 8.5l.94-2.06 2.06-.94-2.06-.94L8.5 2.5l-.94 2.06-2.06.94zm10 10l.94 2.06.94-2.06 2.06-.94-2.06-.94-.94-2.06-.94 2.06-2.06.94z\"/><path d=\"M17.41 7.96l-1.37-1.37c-.4-.4-.92-.59-1.43-.59-.52 0-1.04.2-1.43.59L10.3 9.45l-7.72 7.72c-.78.78-.78 2.05 0 2.83L4 21.41c.39.39.9.59 1.41.59.51 0 1.02-.2 1.41-.59l7.78-7.78 2.81-2.81c.8-.78.8-2.07 0-2.86zM5.41 20L4 18.59l7.72-7.72 1.47 1.35L5.41 20z\"/>\n",
              "  </svg>\n",
              "      </button>\n",
              "      \n",
              "  <style>\n",
              "    .colab-df-container {\n",
              "      display:flex;\n",
              "      flex-wrap:wrap;\n",
              "      gap: 12px;\n",
              "    }\n",
              "\n",
              "    .colab-df-convert {\n",
              "      background-color: #E8F0FE;\n",
              "      border: none;\n",
              "      border-radius: 50%;\n",
              "      cursor: pointer;\n",
              "      display: none;\n",
              "      fill: #1967D2;\n",
              "      height: 32px;\n",
              "      padding: 0 0 0 0;\n",
              "      width: 32px;\n",
              "    }\n",
              "\n",
              "    .colab-df-convert:hover {\n",
              "      background-color: #E2EBFA;\n",
              "      box-shadow: 0px 1px 2px rgba(60, 64, 67, 0.3), 0px 1px 3px 1px rgba(60, 64, 67, 0.15);\n",
              "      fill: #174EA6;\n",
              "    }\n",
              "\n",
              "    [theme=dark] .colab-df-convert {\n",
              "      background-color: #3B4455;\n",
              "      fill: #D2E3FC;\n",
              "    }\n",
              "\n",
              "    [theme=dark] .colab-df-convert:hover {\n",
              "      background-color: #434B5C;\n",
              "      box-shadow: 0px 1px 3px 1px rgba(0, 0, 0, 0.15);\n",
              "      filter: drop-shadow(0px 1px 2px rgba(0, 0, 0, 0.3));\n",
              "      fill: #FFFFFF;\n",
              "    }\n",
              "  </style>\n",
              "\n",
              "      <script>\n",
              "        const buttonEl =\n",
              "          document.querySelector('#df-536a0f99-0c29-4f07-9a71-01623f98345b button.colab-df-convert');\n",
              "        buttonEl.style.display =\n",
              "          google.colab.kernel.accessAllowed ? 'block' : 'none';\n",
              "\n",
              "        async function convertToInteractive(key) {\n",
              "          const element = document.querySelector('#df-536a0f99-0c29-4f07-9a71-01623f98345b');\n",
              "          const dataTable =\n",
              "            await google.colab.kernel.invokeFunction('convertToInteractive',\n",
              "                                                     [key], {});\n",
              "          if (!dataTable) return;\n",
              "\n",
              "          const docLinkHtml = 'Like what you see? Visit the ' +\n",
              "            '<a target=\"_blank\" href=https://colab.research.google.com/notebooks/data_table.ipynb>data table notebook</a>'\n",
              "            + ' to learn more about interactive tables.';\n",
              "          element.innerHTML = '';\n",
              "          dataTable['output_type'] = 'display_data';\n",
              "          await google.colab.output.renderOutput(dataTable, element);\n",
              "          const docLink = document.createElement('div');\n",
              "          docLink.innerHTML = docLinkHtml;\n",
              "          element.appendChild(docLink);\n",
              "        }\n",
              "      </script>\n",
              "    </div>\n",
              "  </div>\n",
              "  "
            ]
          },
          "metadata": {},
          "execution_count": 5
        }
      ]
    },
    {
      "cell_type": "code",
      "source": [
        "# fish 데이터프레임에서 Perch(농어)를 선택\n",
        "perch = fish[fish['Species']=='Perch']\n",
        "perch.info()"
      ],
      "metadata": {
        "colab": {
          "base_uri": "https://localhost:8080/"
        },
        "id": "qcqT1udsY_zZ",
        "outputId": "0b223d2d-bcc4-492d-cd9e-2bf61f53df52"
      },
      "execution_count": 6,
      "outputs": [
        {
          "output_type": "stream",
          "name": "stdout",
          "text": [
            "<class 'pandas.core.frame.DataFrame'>\n",
            "Int64Index: 56 entries, 72 to 127\n",
            "Data columns (total 6 columns):\n",
            " #   Column    Non-Null Count  Dtype  \n",
            "---  ------    --------------  -----  \n",
            " 0   Species   56 non-null     object \n",
            " 1   Weight    56 non-null     float64\n",
            " 2   Length    56 non-null     float64\n",
            " 3   Diagonal  56 non-null     float64\n",
            " 4   Height    56 non-null     float64\n",
            " 5   Width     56 non-null     float64\n",
            "dtypes: float64(5), object(1)\n",
            "memory usage: 3.1+ KB\n"
          ]
        }
      ]
    },
    {
      "cell_type": "code",
      "source": [
        "perch.head()"
      ],
      "metadata": {
        "colab": {
          "base_uri": "https://localhost:8080/",
          "height": 206
        },
        "id": "bDss-kDbZecY",
        "outputId": "7edf6b1b-c273-451d-d4c8-02096c6c0ce6"
      },
      "execution_count": 7,
      "outputs": [
        {
          "output_type": "execute_result",
          "data": {
            "text/plain": [
              "   Species  Weight  Length  Diagonal  Height   Width\n",
              "72   Perch     5.9     8.4       8.8  2.1120  1.4080\n",
              "73   Perch    32.0    13.7      14.7  3.5280  1.9992\n",
              "74   Perch    40.0    15.0      16.0  3.8240  2.4320\n",
              "75   Perch    51.5    16.2      17.2  4.5924  2.6316\n",
              "76   Perch    70.0    17.4      18.5  4.5880  2.9415"
            ],
            "text/html": [
              "\n",
              "  <div id=\"df-05dde18d-7c8b-4593-9589-c4f49b1276e0\">\n",
              "    <div class=\"colab-df-container\">\n",
              "      <div>\n",
              "<style scoped>\n",
              "    .dataframe tbody tr th:only-of-type {\n",
              "        vertical-align: middle;\n",
              "    }\n",
              "\n",
              "    .dataframe tbody tr th {\n",
              "        vertical-align: top;\n",
              "    }\n",
              "\n",
              "    .dataframe thead th {\n",
              "        text-align: right;\n",
              "    }\n",
              "</style>\n",
              "<table border=\"1\" class=\"dataframe\">\n",
              "  <thead>\n",
              "    <tr style=\"text-align: right;\">\n",
              "      <th></th>\n",
              "      <th>Species</th>\n",
              "      <th>Weight</th>\n",
              "      <th>Length</th>\n",
              "      <th>Diagonal</th>\n",
              "      <th>Height</th>\n",
              "      <th>Width</th>\n",
              "    </tr>\n",
              "  </thead>\n",
              "  <tbody>\n",
              "    <tr>\n",
              "      <th>72</th>\n",
              "      <td>Perch</td>\n",
              "      <td>5.9</td>\n",
              "      <td>8.4</td>\n",
              "      <td>8.8</td>\n",
              "      <td>2.1120</td>\n",
              "      <td>1.4080</td>\n",
              "    </tr>\n",
              "    <tr>\n",
              "      <th>73</th>\n",
              "      <td>Perch</td>\n",
              "      <td>32.0</td>\n",
              "      <td>13.7</td>\n",
              "      <td>14.7</td>\n",
              "      <td>3.5280</td>\n",
              "      <td>1.9992</td>\n",
              "    </tr>\n",
              "    <tr>\n",
              "      <th>74</th>\n",
              "      <td>Perch</td>\n",
              "      <td>40.0</td>\n",
              "      <td>15.0</td>\n",
              "      <td>16.0</td>\n",
              "      <td>3.8240</td>\n",
              "      <td>2.4320</td>\n",
              "    </tr>\n",
              "    <tr>\n",
              "      <th>75</th>\n",
              "      <td>Perch</td>\n",
              "      <td>51.5</td>\n",
              "      <td>16.2</td>\n",
              "      <td>17.2</td>\n",
              "      <td>4.5924</td>\n",
              "      <td>2.6316</td>\n",
              "    </tr>\n",
              "    <tr>\n",
              "      <th>76</th>\n",
              "      <td>Perch</td>\n",
              "      <td>70.0</td>\n",
              "      <td>17.4</td>\n",
              "      <td>18.5</td>\n",
              "      <td>4.5880</td>\n",
              "      <td>2.9415</td>\n",
              "    </tr>\n",
              "  </tbody>\n",
              "</table>\n",
              "</div>\n",
              "      <button class=\"colab-df-convert\" onclick=\"convertToInteractive('df-05dde18d-7c8b-4593-9589-c4f49b1276e0')\"\n",
              "              title=\"Convert this dataframe to an interactive table.\"\n",
              "              style=\"display:none;\">\n",
              "        \n",
              "  <svg xmlns=\"http://www.w3.org/2000/svg\" height=\"24px\"viewBox=\"0 0 24 24\"\n",
              "       width=\"24px\">\n",
              "    <path d=\"M0 0h24v24H0V0z\" fill=\"none\"/>\n",
              "    <path d=\"M18.56 5.44l.94 2.06.94-2.06 2.06-.94-2.06-.94-.94-2.06-.94 2.06-2.06.94zm-11 1L8.5 8.5l.94-2.06 2.06-.94-2.06-.94L8.5 2.5l-.94 2.06-2.06.94zm10 10l.94 2.06.94-2.06 2.06-.94-2.06-.94-.94-2.06-.94 2.06-2.06.94z\"/><path d=\"M17.41 7.96l-1.37-1.37c-.4-.4-.92-.59-1.43-.59-.52 0-1.04.2-1.43.59L10.3 9.45l-7.72 7.72c-.78.78-.78 2.05 0 2.83L4 21.41c.39.39.9.59 1.41.59.51 0 1.02-.2 1.41-.59l7.78-7.78 2.81-2.81c.8-.78.8-2.07 0-2.86zM5.41 20L4 18.59l7.72-7.72 1.47 1.35L5.41 20z\"/>\n",
              "  </svg>\n",
              "      </button>\n",
              "      \n",
              "  <style>\n",
              "    .colab-df-container {\n",
              "      display:flex;\n",
              "      flex-wrap:wrap;\n",
              "      gap: 12px;\n",
              "    }\n",
              "\n",
              "    .colab-df-convert {\n",
              "      background-color: #E8F0FE;\n",
              "      border: none;\n",
              "      border-radius: 50%;\n",
              "      cursor: pointer;\n",
              "      display: none;\n",
              "      fill: #1967D2;\n",
              "      height: 32px;\n",
              "      padding: 0 0 0 0;\n",
              "      width: 32px;\n",
              "    }\n",
              "\n",
              "    .colab-df-convert:hover {\n",
              "      background-color: #E2EBFA;\n",
              "      box-shadow: 0px 1px 2px rgba(60, 64, 67, 0.3), 0px 1px 3px 1px rgba(60, 64, 67, 0.15);\n",
              "      fill: #174EA6;\n",
              "    }\n",
              "\n",
              "    [theme=dark] .colab-df-convert {\n",
              "      background-color: #3B4455;\n",
              "      fill: #D2E3FC;\n",
              "    }\n",
              "\n",
              "    [theme=dark] .colab-df-convert:hover {\n",
              "      background-color: #434B5C;\n",
              "      box-shadow: 0px 1px 3px 1px rgba(0, 0, 0, 0.15);\n",
              "      filter: drop-shadow(0px 1px 2px rgba(0, 0, 0, 0.3));\n",
              "      fill: #FFFFFF;\n",
              "    }\n",
              "  </style>\n",
              "\n",
              "      <script>\n",
              "        const buttonEl =\n",
              "          document.querySelector('#df-05dde18d-7c8b-4593-9589-c4f49b1276e0 button.colab-df-convert');\n",
              "        buttonEl.style.display =\n",
              "          google.colab.kernel.accessAllowed ? 'block' : 'none';\n",
              "\n",
              "        async function convertToInteractive(key) {\n",
              "          const element = document.querySelector('#df-05dde18d-7c8b-4593-9589-c4f49b1276e0');\n",
              "          const dataTable =\n",
              "            await google.colab.kernel.invokeFunction('convertToInteractive',\n",
              "                                                     [key], {});\n",
              "          if (!dataTable) return;\n",
              "\n",
              "          const docLinkHtml = 'Like what you see? Visit the ' +\n",
              "            '<a target=\"_blank\" href=https://colab.research.google.com/notebooks/data_table.ipynb>data table notebook</a>'\n",
              "            + ' to learn more about interactive tables.';\n",
              "          element.innerHTML = '';\n",
              "          dataTable['output_type'] = 'display_data';\n",
              "          await google.colab.output.renderOutput(dataTable, element);\n",
              "          const docLink = document.createElement('div');\n",
              "          docLink.innerHTML = docLinkHtml;\n",
              "          element.appendChild(docLink);\n",
              "        }\n",
              "      </script>\n",
              "    </div>\n",
              "  </div>\n",
              "  "
            ]
          },
          "metadata": {},
          "execution_count": 7
        }
      ]
    },
    {
      "cell_type": "markdown",
      "source": [
        "농어(Perch)의 길이(Length)를 알면 무게(Weight)를 예측할 수 있을까?\n",
        "\n",
        "* 관심 변수, 종속 변수(label, target)(알고 싶은 것, 예측하고 싶은 것) - Weight --> 1차원 배열\n",
        "* 독립 변수, 특성(features) - Length --> (컬럼이 1개인) 2차원 배열"
      ],
      "metadata": {
        "id": "ISeqippIeDNs"
      }
    },
    {
      "cell_type": "code",
      "source": [
        "X = perch[['Length']].values    # (컬럼이 1개인) 2차원 배열로 만들기 위해서\n",
        "X[:5, :]"
      ],
      "metadata": {
        "colab": {
          "base_uri": "https://localhost:8080/"
        },
        "id": "hrHUbmUkZ-Q_",
        "outputId": "141ce3e6-2047-41a0-93ba-0f4c8dc43c12"
      },
      "execution_count": 8,
      "outputs": [
        {
          "output_type": "execute_result",
          "data": {
            "text/plain": [
              "array([[ 8.4],\n",
              "       [13.7],\n",
              "       [15. ],\n",
              "       [16.2],\n",
              "       [17.4]])"
            ]
          },
          "metadata": {},
          "execution_count": 8
        }
      ]
    },
    {
      "cell_type": "code",
      "source": [
        "y = perch['Weight'].values  # 1차원 배열\n",
        "y[:5]"
      ],
      "metadata": {
        "colab": {
          "base_uri": "https://localhost:8080/"
        },
        "id": "41a77appfqdh",
        "outputId": "7acc6008-8cbc-4466-9a90-301375444c1d"
      },
      "execution_count": 9,
      "outputs": [
        {
          "output_type": "execute_result",
          "data": {
            "text/plain": [
              "array([ 5.9, 32. , 40. , 51.5, 70. ])"
            ]
          },
          "metadata": {},
          "execution_count": 9
        }
      ]
    },
    {
      "cell_type": "markdown",
      "source": [
        "# 훈련/테스트 셋 분리"
      ],
      "metadata": {
        "id": "zIghqqzdgsJd"
      }
    },
    {
      "cell_type": "code",
      "source": [
        "X_train, X_test, y_train, y_test = train_test_split(X, y,\n",
        "                                                    test_size=0.25,\n",
        "                                                    random_state=42)"
      ],
      "metadata": {
        "id": "pd36_5AIgdAx"
      },
      "execution_count": 10,
      "outputs": []
    },
    {
      "cell_type": "code",
      "source": [
        "X_train.shape, X_test.shape"
      ],
      "metadata": {
        "colab": {
          "base_uri": "https://localhost:8080/"
        },
        "id": "HqaQqMqphfZj",
        "outputId": "082453f1-e861-4fe7-8312-627bb910339d"
      },
      "execution_count": 11,
      "outputs": [
        {
          "output_type": "execute_result",
          "data": {
            "text/plain": [
              "((42, 1), (14, 1))"
            ]
          },
          "metadata": {},
          "execution_count": 11
        }
      ]
    },
    {
      "cell_type": "code",
      "source": [
        "y_train.shape, y_test.shape"
      ],
      "metadata": {
        "colab": {
          "base_uri": "https://localhost:8080/"
        },
        "id": "7o56fuw4hiUu",
        "outputId": "d683e12e-9147-4ed5-941b-0342c665aedc"
      },
      "execution_count": 12,
      "outputs": [
        {
          "output_type": "execute_result",
          "data": {
            "text/plain": [
              "((42,), (14,))"
            ]
          },
          "metadata": {},
          "execution_count": 12
        }
      ]
    },
    {
      "cell_type": "markdown",
      "source": [
        "훈련 셋/테스트 셋 시각화 (Weight ~ Length 산점도)"
      ],
      "metadata": {
        "id": "HNaaKqfNh9-2"
      }
    },
    {
      "cell_type": "code",
      "source": [
        "plt.scatter(x=X_train, y=y_train, label='train', alpha=0.5)\n",
        "plt.scatter(X_test, y_test, label='test', alpha=0.5)\n",
        "\n",
        "plt.legend()\n",
        "plt.xlabel('Length (cm)')\n",
        "plt.ylabel('Weight (g)')\n",
        "plt.grid()\n",
        "plt.show()"
      ],
      "metadata": {
        "colab": {
          "base_uri": "https://localhost:8080/",
          "height": 279
        },
        "id": "nWDoSOKQhkvr",
        "outputId": "bedd6b71-a1f5-4256-e61b-4c6b6c79e9ca"
      },
      "execution_count": 13,
      "outputs": [
        {
          "output_type": "display_data",
          "data": {
            "text/plain": [
              "<Figure size 432x288 with 1 Axes>"
            ],
            "image/png": "[encoded data removed]"
          },
          "metadata": {
            "needs_background": "light"
          }
        }
      ]
    },
    {
      "cell_type": "markdown",
      "source": [
        "# KNN Regressor 모델 훈련, 평가\n",
        "\n",
        "KNN Regressor: 가장 가까운 k개의 이웃들의 레이블(타겟)의 평균값으로 숫자를 예측."
      ],
      "metadata": {
        "id": "vKWEe3-CkRuv"
      }
    },
    {
      "cell_type": "code",
      "source": [
        "knn_reg = KNeighborsRegressor() # k=5 인 모델 생성"
      ],
      "metadata": {
        "id": "0YsPHbj6iXcJ"
      },
      "execution_count": 14,
      "outputs": []
    },
    {
      "cell_type": "code",
      "source": [
        "knn_reg.fit(X_train, y_train)   # 모델 학습"
      ],
      "metadata": {
        "colab": {
          "base_uri": "https://localhost:8080/"
        },
        "id": "7j-a2_HAkz3F",
        "outputId": "3a6d0904-7c78-406a-b5ab-267dc67967e0"
      },
      "execution_count": 15,
      "outputs": [
        {
          "output_type": "execute_result",
          "data": {
            "text/plain": [
              "KNeighborsRegressor()"
            ]
          },
          "metadata": {},
          "execution_count": 15
        }
      ]
    },
    {
      "cell_type": "code",
      "source": [
        "# 학습된 훈련 셋의 예측값\n",
        "train_pred = knn_reg.predict(X_train)\n",
        "train_pred"
      ],
      "metadata": {
        "colab": {
          "base_uri": "https://localhost:8080/"
        },
        "id": "xUuGvNvAk9Kl",
        "outputId": "2c1a20d4-5d09-46c5-eede-b7f9b3f9f8f0"
      },
      "execution_count": 16,
      "outputs": [
        {
          "output_type": "execute_result",
          "data": {
            "text/plain": [
              "array([  88.6,  123. ,   79.6,   70.6,  723. ,  193. ,  847. ,  847. ,\n",
              "       1010. ,  123. ,   95. ,  123. ,  174. ,  248. , 1010. ,  847. ,\n",
              "        174. ,  113. ,  248. ,  847. ,  659. ,  224. ,  723. ,   60. ,\n",
              "        140. ,   60. ,  719. ,  694.2,  248. ,  167. ,  847. ,  113. ,\n",
              "        168. ,  123. , 1010. ,  136. ,   79.6,  719. ,  123. ,  193. ,\n",
              "        990. ,  659. ])"
            ]
          },
          "metadata": {},
          "execution_count": 16
        }
      ]
    },
    {
      "cell_type": "code",
      "source": [
        "# 훈련 셋의 실제값(레이블)\n",
        "y_train"
      ],
      "metadata": {
        "colab": {
          "base_uri": "https://localhost:8080/"
        },
        "id": "bN3fHVmDlJEn",
        "outputId": "87c1f2ff-c264-4af2-cfa4-f10f4504da5c"
      },
      "execution_count": 17,
      "outputs": [
        {
          "output_type": "execute_result",
          "data": {
            "text/plain": [
              "array([  85.,  135.,   78.,   70.,  700.,  180.,  850.,  820., 1000.,\n",
              "        120.,   85.,  130.,  225.,  260., 1100.,  900.,  145.,  115.,\n",
              "        265., 1015.,  514.,  218.,  685.,   32.,  145.,   40.,  690.,\n",
              "        840.,  300.,  170.,  650.,  110.,  150.,  110., 1000.,  150.,\n",
              "         80.,  700.,  120.,  197., 1100.,  556.])"
            ]
          },
          "metadata": {},
          "execution_count": 17
        }
      ]
    },
    {
      "cell_type": "markdown",
      "source": [
        "## 회귀 문제에서의 평가 지표:\n",
        "\n",
        "* 기호 정의\n",
        "    * $y_i$: $i$번째 샘플의 실젯값(label)\n",
        "    * $\\hat{y_i}$: $i$번째 샘플의 예측값\n",
        "    * $\\bar{y}$: 타겟의 평균값\n",
        "    * $n$: 샘플 개수\n",
        "\n",
        "* MSE(Mean Squared Errors): 오차들의 제곱의 평균\n",
        "$$\n",
        "MSE = \\frac{1}{n} \\sum_{i=1}^{n} (y_i - \\hat{y_i})^2\n",
        "$$\n",
        "\n",
        "* RMSE(Root Mean Squared Errors): MSE의 제곱근\n",
        "$$\n",
        "RMSE = \\sqrt{ \\frac{1}{n} \\sum_{i=1}^{n} (y_i - \\hat{y_i})^2 }\n",
        "$$\n",
        "\n",
        "* MAE(Mean Absolute Errors): 오차들의 절대값의 평균\n",
        "$$\n",
        "MAE = \\frac{1}{n} \\sum_{i=1}^{n} \\lvert y_i - \\hat{y_i} \\rvert\n",
        "$$\n",
        "\n",
        "* $R^2$ score(결정 계수, coefficient of determinant)\n",
        "$$\n",
        "R^2 = 1 - \\dfrac{ \\sum_{i=1}^{n} (y_i - \\hat{y_i})^2 }\n",
        "                { \\sum_{i=1}^{n} (y_i - \\bar{y})^2 }\n",
        "$$\n",
        "\n",
        "* 일반적인 평가 지표는 점수가 높을 수록 좋은 모델, 점수가 낮을 수록 나쁜 모델.\n",
        "    * 그런데, 회귀 문제에서는 오차(MSE, MAE)는 작을 수록 좋은 모델이고, 오차가 클 수록 나쁜 모델.\n",
        "    * 회귀 문제에서도 점수가 높을 수록 좋은 모델이고 점수가 낮을 수록 나쁜 모델이라고 평가할 수 있는 지표가 필요. --> $R^2$ score(결정 계수)\n",
        "    * 결정 계수는 최댓값이 1이 되도록 만든 평가 지표.\n",
        "    * 모델이 타겟을 오차없이 정확하게 예측한다면 실제값 - 예측값 = 0 이므로, 결정 계수는 최댓값이 1이 됨.\n",
        "    * 모델이 타겟을 매우 비슷하게 예측한다면(즉, 오차가 매우 작다면) 분자가 0에 가까운 값이 되므로, 결정 계수는 1보다는 작지만 1에 가까운 값이 됨.\n",
        "    * 모델이 타겟의 평균으로만 예측하는 정도라면 분자 = 분모 이므로, 결정 계수는 0이 됨.\n",
        "    * 모델이 타겟의 평균 정도도 예측하지 못하는 모델이라면(오차가 매우 크다면), 분자 > 분모 일 수 있고, 그런 경우 결정 계수는 음수가 될 수 있음.\n",
        "    * 즉, 결정 계수는 1에 가까울 수록 오차가 작은 좋은 예측 모델이고, 숫자가 작아질 수록 오차가 큰 나쁜 예측 모델임."
      ],
      "metadata": {
        "id": "_cZr6UZFmy52"
      }
    },
    {
      "cell_type": "code",
      "source": [
        "# 훈련 셋의 MSE, RMSE\n",
        "train_mse = mean_squared_error(y_train, train_pred)\n",
        "train_rmse = np.sqrt(train_mse)\n",
        "train_rmse"
      ],
      "metadata": {
        "colab": {
          "base_uri": "https://localhost:8080/"
        },
        "id": "F8gWq9aSlYFg",
        "outputId": "e046b9c4-0d1e-45ee-b812-cae430ed7365"
      },
      "execution_count": 18,
      "outputs": [
        {
          "output_type": "execute_result",
          "data": {
            "text/plain": [
              "60.96323638453089"
            ]
          },
          "metadata": {},
          "execution_count": 18
        }
      ]
    },
    {
      "cell_type": "code",
      "source": [
        "# 훈련 셋의 MAE\n",
        "train_mae = mean_absolute_error(y_train, train_pred)\n",
        "train_mae\n",
        "\n",
        "# rmse 또는 mae 하나만 사용, !주로 rmse 사용!"
      ],
      "metadata": {
        "colab": {
          "base_uri": "https://localhost:8080/"
        },
        "id": "qOQjCT8DoGhG",
        "outputId": "8d5f4d87-f5f4-47cf-d3b3-e7363acdd247"
      },
      "execution_count": 19,
      "outputs": [
        {
          "output_type": "execute_result",
          "data": {
            "text/plain": [
              "35.76190476190476"
            ]
          },
          "metadata": {},
          "execution_count": 19
        }
      ]
    },
    {
      "cell_type": "code",
      "source": [
        "# 테스트 셋의 예측값\n",
        "test_pred = knn_reg.predict(X_test)\n",
        "test_pred\n",
        "# 테스트 셋에서의 RMSE\n",
        "test_mse = mean_squared_error(y_test, test_pred)\n",
        "test_rmse = np.sqrt(test_mse)\n",
        "test_rmse"
      ],
      "metadata": {
        "colab": {
          "base_uri": "https://localhost:8080/"
        },
        "id": "f7-3kaQ1ov5d",
        "outputId": "bfe15c95-9777-47fb-869d-910a46aef1ae"
      },
      "execution_count": 20,
      "outputs": [
        {
          "output_type": "execute_result",
          "data": {
            "text/plain": [
              "26.865192562655704"
            ]
          },
          "metadata": {},
          "execution_count": 20
        }
      ]
    },
    {
      "cell_type": "code",
      "source": [
        "# 훈련 셋의 R^2 (결정 계수)\n",
        "train_r2 = r2_score(y_train, train_pred)\n",
        "print('훈련 셋 R2:', train_r2)\n",
        "\n",
        "# 테스트 셋의 R^2\n",
        "test_r2 = r2_score(y_test, test_pred)\n",
        "print('테스트 셋 R2:', test_r2)"
      ],
      "metadata": {
        "colab": {
          "base_uri": "https://localhost:8080/"
        },
        "id": "a9akCLZqqDWt",
        "outputId": "c1aeacf6-67fa-4bc2-d71c-6ee4dd00f0a2"
      },
      "execution_count": 21,
      "outputs": [
        {
          "output_type": "stream",
          "name": "stdout",
          "text": [
            "훈련 셋 R2: 0.9698823289099254\n",
            "테스트 셋 R2: 0.992809406101064\n"
          ]
        }
      ]
    },
    {
      "cell_type": "code",
      "source": [
        "knn_reg.score(X_train, y_train)"
      ],
      "metadata": {
        "colab": {
          "base_uri": "https://localhost:8080/"
        },
        "id": "MGvDqMwzzGE2",
        "outputId": "eee263ea-9347-417d-8f93-92702d2f7fcf"
      },
      "execution_count": 22,
      "outputs": [
        {
          "output_type": "execute_result",
          "data": {
            "text/plain": [
              "0.9698823289099254"
            ]
          },
          "metadata": {},
          "execution_count": 22
        }
      ]
    },
    {
      "cell_type": "code",
      "source": [
        "knn_reg.score(X_test, y_test)\n",
        "#> score 메소드 리턴값 = R^2 스코어"
      ],
      "metadata": {
        "colab": {
          "base_uri": "https://localhost:8080/"
        },
        "id": "3RV0Vd5V0rUS",
        "outputId": "177d33bf-be68-46d2-debe-4d85d09a69d1"
      },
      "execution_count": 24,
      "outputs": [
        {
          "output_type": "execute_result",
          "data": {
            "text/plain": [
              "0.992809406101064"
            ]
          },
          "metadata": {},
          "execution_count": 24
        }
      ]
    },
    {
      "cell_type": "markdown",
      "source": [
        "# 모델 튜닝\n",
        "\n",
        "k값 변화에 따른 훈련 셋과 테스트 셋에서의 $R^2$ score 변화 시각화"
      ],
      "metadata": {
        "id": "uSoHJ3jddCrG"
      }
    },
    {
      "cell_type": "code",
      "source": [
        "k_values = np.arange(1,16)\n",
        "train_scores = []   # 훈련 셋의 R^2 score를 저장할 리스트\n",
        "test_scores = []    # 테스트 셋의 R^2 score를 저장할 리스트\n",
        "\n",
        "for k in k_values :\n",
        "    knn = KNeighborsRegressor(n_neighbors=k)\n",
        "    knn.fit(X_train, y_train)    \n",
        "    train_r2 = knn.score(X_train, y_train)\n",
        "    train_scores.append(train_r2)    \n",
        "      \n",
        "    test_r2 = knn.score(X_test, y_test)\n",
        "    test_scores.append(test_r2)\n",
        "\n",
        "print(train_scores)\n",
        "print(test_scores)"
      ],
      "metadata": {
        "id": "MwjqWQOE0tcO",
        "colab": {
          "base_uri": "https://localhost:8080/"
        },
        "outputId": "7db286b5-976e-4e27-94e3-6cd2ec1ca51b"
      },
      "execution_count": 37,
      "outputs": [
        {
          "output_type": "stream",
          "name": "stdout",
          "text": [
            "[0.9852830341215901, 0.9828437127041165, 0.9804899950518966, 0.978211389719245, 0.9698823289099254, 0.9757140960298665, 0.9761170732051527, 0.9697604397763201, 0.9693310367551284, 0.96164569026043, 0.9515761381539326, 0.9467103631225754, 0.9413423450130075, 0.9429470576557883, 0.930201118360776]\n",
            "[0.991309195814175, 0.9725010241788556, 0.9746459963987609, 0.9840231023848637, 0.992809406101064, 0.9855001139899048, 0.9781383949643516, 0.9780541148735824, 0.9692647749722698, 0.9737908255822255, 0.970279643030474, 0.967703620310643, 0.9639044643206888, 0.9615046463124021, 0.9554827691127018]\n"
          ]
        }
      ]
    },
    {
      "cell_type": "code",
      "source": [
        "plt.plot(k_values, train_scores, 'bo-', label='train $R^2$ score')\n",
        "plt.plot(k_values, test_scores, 'ro:', label='test $R^2$ score')\n",
        "\n",
        "plt.legend()\n",
        "plt.grid()\n",
        "plt.xlabel('k (# of nearest neighbors)')\n",
        "plt.ylabel('$R^2$ score')\n",
        "plt.show()"
      ],
      "metadata": {
        "colab": {
          "base_uri": "https://localhost:8080/",
          "height": 279
        },
        "id": "YlK7iq2Ue0LT",
        "outputId": "ff449783-b8dc-4c9a-8853-138408962bb4"
      },
      "execution_count": 38,
      "outputs": [
        {
          "output_type": "display_data",
          "data": {
            "text/plain": [
              "<Figure size 432x288 with 1 Axes>"
            ],
            "image/png": "[encoded data removed]"
          },
          "metadata": {
            "needs_background": "light"
          }
        }
      ]
    },
    {
      "cell_type": "markdown",
      "source": [
        "# KNN Regressor의 문제점 - 이상치(outlier)"
      ],
      "metadata": {
        "id": "MfsET7Sxk5WE"
      }
    },
    {
      "cell_type": "code",
      "source": [
        "# 훈련 셋 시각화\n",
        "plt.scatter(X_train, y_train, label='train set', alpha=0.5)\n",
        "\n",
        "# 길이는 50cm, 무게는 1500g인 가상의 농어(Perch) 한 마리\n",
        "test_fish_length = [[50]]   # 특성 배열: (n_sample, n_feature) shape의 2차원 배열\n",
        "test_fish_weight = [1500]   # 레이블 배열: (n_sample, ) shape의 1차원 배열\n",
        "plt.scatter(test_fish_length, test_fish_weight, color='red', marker='v')\n",
        "\n",
        "plt.legend()\n",
        "plt.grid()\n",
        "plt.xlabel('Length (cm)')\n",
        "plt.ylabel('Weight (g)')\n",
        "plt.show()"
      ],
      "metadata": {
        "colab": {
          "base_uri": "https://localhost:8080/",
          "height": 279
        },
        "id": "03J_HjxHfRjD",
        "outputId": "d106786d-b3a9-4485-d494-900c992d614d"
      },
      "execution_count": 44,
      "outputs": [
        {
          "output_type": "display_data",
          "data": {
            "text/plain": [
              "<Figure size 432x288 with 1 Axes>"
            ],
            "image/png": "[encoded data removed]"
          },
          "metadata": {
            "needs_background": "light"
          }
        }
      ]
    },
    {
      "cell_type": "code",
      "source": [
        "# k=3인 KNN regressor 생성, 훈련, 예측\n",
        "knn = KNeighborsRegressor(n_neighbors=3)    # 모델 생성\n",
        "knn.fit(X_train, y_train)   # 모델 훈련\n",
        "prediction = knn.predict(test_fish_length)  # 길이 50cm 농어의 무게 예측값\n",
        "print(prediction)"
      ],
      "metadata": {
        "colab": {
          "base_uri": "https://localhost:8080/"
        },
        "id": "6TfIY7J_k_qL",
        "outputId": "80525d49-c656-4868-c0ae-cca599fc2552"
      },
      "execution_count": 49,
      "outputs": [
        {
          "output_type": "stream",
          "name": "stdout",
          "text": [
            "[1033.33333333]\n"
          ]
        }
      ]
    },
    {
      "cell_type": "markdown",
      "source": [
        "* 머신 러닝 알고리즘\n",
        "    * 지도학습 中:\n",
        "        * 사례 기반 학습(instance-based learning): KNN\n",
        "            * 샘플들의 다수결 또는 평균으로 예측하는 알고리즘.\n",
        "            * 특별한 수학적인 모델링이 사용되지 않는 알고리즘.\n",
        "            * 장점: 이해하기 쉽다.\n",
        "            * 단점: 이상치(outlier)에 대한 예측값은 매우 나쁘다. \n",
        "        * 모델 기반 학습(model-based learning): Linear Regression\n",
        "            * 훈련 셋에서 수학적인 모델을 추론(식 도출)해서 예측하는 알고리즘."
      ],
      "metadata": {
        "id": "gpR0d-RYpFL2"
      }
    },
    {
      "cell_type": "markdown",
      "source": [
        "# 선형 회귀(Linear Regression)"
      ],
      "metadata": {
        "id": "wAQSrfsd94sA"
      }
    },
    {
      "cell_type": "code",
      "source": [
        "lin_reg = LinearRegression()    # 선형 회귀 모델 생성"
      ],
      "metadata": {
        "id": "hZ_PqHARn3Ul"
      },
      "execution_count": 50,
      "outputs": []
    },
    {
      "cell_type": "code",
      "source": [
        "lin_reg.fit(X_train, y_train)   # 모델 훈련"
      ],
      "metadata": {
        "colab": {
          "base_uri": "https://localhost:8080/"
        },
        "id": "EYhH9dkg-MlW",
        "outputId": "b2428a2b-aebd-42c8-fcf5-64cc34c8e00b"
      },
      "execution_count": 51,
      "outputs": [
        {
          "output_type": "execute_result",
          "data": {
            "text/plain": [
              "LinearRegression()"
            ]
          },
          "metadata": {},
          "execution_count": 51
        }
      ]
    },
    {
      "cell_type": "markdown",
      "source": [
        "선형 회귀 모델을 훈련 셋으로 학습시킨다라는 의미는 데이터들을 가장 잘 설명할 수 있는 (훈련 셋과 예측값들 사이에 오차가 적어지도록 하는) 직선 또는 곡선의 방정식을 찾는 과정.\n",
        "\n",
        "$$\n",
        "\\hat{y_i} = w_0 + w_1 \\times x_i\n",
        "$$\n",
        "\n",
        "* $w_0$ : 절편(intercept), 편향(bias)\n",
        "* $w_1$ : 기울기(slope), 계수(coefficient)\n",
        "* 선형 회귀의 목적은 MSE(오차들의 제곱의 평균)가 가장 작아지는 절편($w_0$)과 계수들($w_1$)을 찾는 것.\n",
        "* 계수들인 이유는 컬럼값이 여러개일 수 있기 때문. (여기선 길이, 대각길이, 너비 등)"
      ],
      "metadata": {
        "id": "lTV9RCOeAH6c"
      }
    },
    {
      "cell_type": "code",
      "source": [
        "lin_reg.intercept_  # 선형 회귀 모델을 훈련시킨 후 찾은 직선의 절편값"
      ],
      "metadata": {
        "colab": {
          "base_uri": "https://localhost:8080/"
        },
        "id": "jiq0MfHz-b_v",
        "outputId": "fc528f4e-7da9-4514-c658-faeb26ed4826"
      },
      "execution_count": 52,
      "outputs": [
        {
          "output_type": "execute_result",
          "data": {
            "text/plain": [
              "-709.0186449535477"
            ]
          },
          "metadata": {},
          "execution_count": 52
        }
      ]
    },
    {
      "cell_type": "code",
      "source": [
        "lin_reg.coef_   # 선형 회귀 모델을 훈련시킨 후 찾은 직선의 계수"
      ],
      "metadata": {
        "colab": {
          "base_uri": "https://localhost:8080/"
        },
        "id": "DkIz30oYCBvC",
        "outputId": "a60f2931-2a4c-4438-983f-21fd4d0f6aae"
      },
      "execution_count": 53,
      "outputs": [
        {
          "output_type": "execute_result",
          "data": {
            "text/plain": [
              "array([39.01714496])"
            ]
          },
          "metadata": {},
          "execution_count": 53
        }
      ]
    },
    {
      "cell_type": "markdown",
      "source": [
        "선형 회귀 모델을 훈련시킨 후 찾은 수학적 모델(직선의 방정식, 대략 반올림)\n",
        "\n",
        "$$\n",
        "\\hat{y} = -709 + 39 \\times x\n",
        "$$\n"
      ],
      "metadata": {
        "id": "OOG2vg7cCui1"
      }
    },
    {
      "cell_type": "code",
      "source": [
        "-709 + 39 * 50"
      ],
      "metadata": {
        "colab": {
          "base_uri": "https://localhost:8080/"
        },
        "id": "T-t5PP_TCJi0",
        "outputId": "81ba52f3-4c9d-4c8b-8599-4e73190624f0"
      },
      "execution_count": 57,
      "outputs": [
        {
          "output_type": "execute_result",
          "data": {
            "text/plain": [
              "array([1241.83860323])"
            ]
          },
          "metadata": {},
          "execution_count": 57
        }
      ]
    },
    {
      "cell_type": "code",
      "source": [
        "# 훈련 셋, 선형 회귀 모델(직선) 시각화\n",
        "plt.scatter(X_train, y_train, alpha=0.5,label='train')\n",
        "plt.scatter(X_test, y_test, alpha=0.5, label='test')\n",
        "\n",
        "# 직선(곡선) 시각화\n",
        "x = np.arange(0,50, 0.001)  # 구간 촘촘히 나누기\n",
        "w0 = lin_reg.intercept_ # 직선의 y절편\n",
        "w1 = lin_reg.coef_[0]  # 직선의 기울기(계수)\n",
        "plt.plot(x, w0+w1*x, 'darkred', label='linear regression')\n",
        "\n",
        "plt.legend()\n",
        "plt.grid()\n",
        "plt.xlabel('Length (cm)')\n",
        "plt.ylabel('Weight (g)')\n",
        "plt.show()"
      ],
      "metadata": {
        "colab": {
          "base_uri": "https://localhost:8080/",
          "height": 279
        },
        "id": "iijDvtH_DGpA",
        "outputId": "97283926-0915-4e45-a18e-5d1192530212"
      },
      "execution_count": 79,
      "outputs": [
        {
          "output_type": "display_data",
          "data": {
            "text/plain": [
              "<Figure size 432x288 with 1 Axes>"
            ],
            "image/png": "[encoded data removed]"
          },
          "metadata": {
            "needs_background": "light"
          }
        }
      ]
    },
    {
      "cell_type": "code",
      "source": [
        "# 훈련 셋에서의 예측값\n",
        "print(lin_reg.predict(X_train))"
      ],
      "metadata": {
        "colab": {
          "base_uri": "https://localhost:8080/"
        },
        "id": "l-_6sV6gG6KL",
        "outputId": "95f80290-e5f3-4d56-9309-1b94f7f0d95d"
      },
      "execution_count": 84,
      "outputs": [
        {
          "output_type": "stream",
          "name": "stdout",
          "text": [
            "[  55.71739633  149.35854425   20.60196587  -30.12032259  695.59857374\n",
            "  266.40997914  851.66715359  812.65000863  968.71858848  149.35854425\n",
            "   71.32425432  149.35854425  227.39283417  363.95284155  968.71858848\n",
            "  851.66715359  227.39283417  110.34139928  363.95284155  851.66715359\n",
            "  570.74370985  324.93569658  715.10714622 -174.48375895  176.67054572\n",
            " -123.7614705   734.6157187   656.58142877  410.7734155   207.88426169\n",
            "  812.65000863  110.34139928  188.37568921  149.35854425 1007.73573345\n",
            "  168.86711673   32.30710936  734.6157187   149.35854425  289.82026612\n",
            "  929.70144352  637.07285629]\n"
          ]
        }
      ]
    },
    {
      "cell_type": "code",
      "source": [
        "print(y_train)"
      ],
      "metadata": {
        "colab": {
          "base_uri": "https://localhost:8080/"
        },
        "id": "eXLk4FptHC4g",
        "outputId": "fffedd9a-69da-4de4-db2c-6c8891a91718"
      },
      "execution_count": 83,
      "outputs": [
        {
          "output_type": "stream",
          "name": "stdout",
          "text": [
            "[  85.  135.   78.   70.  700.  180.  850.  820. 1000.  120.   85.  130.\n",
            "  225.  260. 1100.  900.  145.  115.  265. 1015.  514.  218.  685.   32.\n",
            "  145.   40.  690.  840.  300.  170.  650.  110.  150.  110. 1000.  150.\n",
            "   80.  700.  120.  197. 1100.  556.]\n"
          ]
        }
      ]
    },
    {
      "cell_type": "code",
      "source": [
        "# 훈련 셋에서의 R^2 score\n",
        "lin_reg.score(X_train, y_train)"
      ],
      "metadata": {
        "colab": {
          "base_uri": "https://localhost:8080/"
        },
        "id": "-elR8VBgDPLM",
        "outputId": "c317a18d-9881-47ad-eda1-334320054264"
      },
      "execution_count": 80,
      "outputs": [
        {
          "output_type": "execute_result",
          "data": {
            "text/plain": [
              "0.939846333997604"
            ]
          },
          "metadata": {},
          "execution_count": 80
        }
      ]
    },
    {
      "cell_type": "code",
      "source": [
        "# 테스트 셋에서의 R^2 score\n",
        "lin_reg.score(X_test, y_test)"
      ],
      "metadata": {
        "colab": {
          "base_uri": "https://localhost:8080/"
        },
        "id": "lx3aWDzIGuzb",
        "outputId": "48bfd664-c981-420d-e3ac-57e52209eddc"
      },
      "execution_count": 85,
      "outputs": [
        {
          "output_type": "execute_result",
          "data": {
            "text/plain": [
              "0.8247503123313558"
            ]
          },
          "metadata": {},
          "execution_count": 85
        }
      ]
    },
    {
      "cell_type": "markdown",
      "source": [
        "선형 회귀 모델은 훈련 셋과 테스트 셋에서 KNN Regressor 보다 안 좋은 결과를 보여주고 있다. 하지만 50cm,1500g의 가상의 농어(outlier 데이터)에 대해선 KNN보다 오차가 적은 예측값을 준다."
      ],
      "metadata": {
        "id": "KcVmRkOzMJGo"
      }
    },
    {
      "cell_type": "markdown",
      "source": [
        "# 2차 항(polymonial)을 포함하는 선형 회귀\n",
        "\n",
        "$$\n",
        "\\hat{y} = w_0 + w_1 × x + w_2 × x^2\n",
        "$$\n",
        "\n",
        "2차 함수에 의해서 계산된 MSE가 최소가 되는 절편과 계수들을 찾는 것."
      ],
      "metadata": {
        "id": "gTM682zXPzZt"
      }
    },
    {
      "cell_type": "code",
      "source": [
        "X_train.shape   # 훈련 셋의 shape"
      ],
      "metadata": {
        "colab": {
          "base_uri": "https://localhost:8080/"
        },
        "id": "M_wHaOutH1st",
        "outputId": "aa90dea4-7bb0-41b6-d4db-4dcf2cc68d24"
      },
      "execution_count": 86,
      "outputs": [
        {
          "output_type": "execute_result",
          "data": {
            "text/plain": [
              "(42, 1)"
            ]
          },
          "metadata": {},
          "execution_count": 86
        }
      ]
    },
    {
      "cell_type": "code",
      "source": [
        "X_train[:3, :]"
      ],
      "metadata": {
        "colab": {
          "base_uri": "https://localhost:8080/"
        },
        "id": "oebJWOAYQnFX",
        "outputId": "fecbd394-32cc-4f06-ff93-bc453df0475c"
      },
      "execution_count": 87,
      "outputs": [
        {
          "output_type": "execute_result",
          "data": {
            "text/plain": [
              "array([[19.6],\n",
              "       [22. ],\n",
              "       [18.7]])"
            ]
          },
          "metadata": {},
          "execution_count": 87
        }
      ]
    },
    {
      "cell_type": "code",
      "source": [
        "# 특성 (feature) 배열에 2차항을 추가\n",
        "X_train_poly = np.c_[X_train, X_train ** 2]\n",
        "# 행 추가는 np.r_"
      ],
      "metadata": {
        "id": "LvAE7me2Q27v"
      },
      "execution_count": 88,
      "outputs": []
    },
    {
      "cell_type": "code",
      "source": [
        "X_train_poly.shape"
      ],
      "metadata": {
        "colab": {
          "base_uri": "https://localhost:8080/"
        },
        "id": "5K6ZsH2VRQ6M",
        "outputId": "8ae9b26d-61fd-4d2d-ae87-f9c33e4c20ff"
      },
      "execution_count": 89,
      "outputs": [
        {
          "output_type": "execute_result",
          "data": {
            "text/plain": [
              "(42, 2)"
            ]
          },
          "metadata": {},
          "execution_count": 89
        }
      ]
    },
    {
      "cell_type": "code",
      "source": [
        "X_train_poly[:3, :]"
      ],
      "metadata": {
        "colab": {
          "base_uri": "https://localhost:8080/"
        },
        "id": "JjrscvjmRSL_",
        "outputId": "cbe8576d-ff16-437a-c84a-f5d49e4d80f0"
      },
      "execution_count": 90,
      "outputs": [
        {
          "output_type": "execute_result",
          "data": {
            "text/plain": [
              "array([[ 19.6 , 384.16],\n",
              "       [ 22.  , 484.  ],\n",
              "       [ 18.7 , 349.69]])"
            ]
          },
          "metadata": {},
          "execution_count": 90
        }
      ]
    },
    {
      "cell_type": "code",
      "source": [
        "# 테스트 셋의 특성 배열에 2차항을 추가\n",
        "X_test_poly = np.c_[X_test, X_test ** 2]"
      ],
      "metadata": {
        "id": "JCxqhGwCRasZ"
      },
      "execution_count": 91,
      "outputs": []
    },
    {
      "cell_type": "code",
      "source": [
        "X_test_poly.shape"
      ],
      "metadata": {
        "colab": {
          "base_uri": "https://localhost:8080/"
        },
        "id": "hzZVTxNYSIiX",
        "outputId": "b65e7a16-1d56-420e-d96c-bcaef009a091"
      },
      "execution_count": 92,
      "outputs": [
        {
          "output_type": "execute_result",
          "data": {
            "text/plain": [
              "(14, 2)"
            ]
          },
          "metadata": {},
          "execution_count": 92
        }
      ]
    },
    {
      "cell_type": "code",
      "source": [
        "X_test_poly[:3, :]"
      ],
      "metadata": {
        "colab": {
          "base_uri": "https://localhost:8080/"
        },
        "id": "EqUZSCE3SJnW",
        "outputId": "c08377da-30ad-48bb-d8e9-300b400023e1"
      },
      "execution_count": 93,
      "outputs": [
        {
          "output_type": "execute_result",
          "data": {
            "text/plain": [
              "array([[  8.4 ,  70.56],\n",
              "       [ 18.  , 324.  ],\n",
              "       [ 27.5 , 756.25]])"
            ]
          },
          "metadata": {},
          "execution_count": 93
        }
      ]
    },
    {
      "cell_type": "code",
      "source": [
        "lin_reg2 = LinearRegression()"
      ],
      "metadata": {
        "id": "Ru5kaDzHSMOP"
      },
      "execution_count": 94,
      "outputs": []
    },
    {
      "cell_type": "code",
      "source": [
        "lin_reg2.fit(X_train_poly, y_train)"
      ],
      "metadata": {
        "colab": {
          "base_uri": "https://localhost:8080/"
        },
        "id": "9_WV8cZzSlut",
        "outputId": "21f5f838-5695-48b9-d82b-658627d0dbba"
      },
      "execution_count": 95,
      "outputs": [
        {
          "output_type": "execute_result",
          "data": {
            "text/plain": [
              "LinearRegression()"
            ]
          },
          "metadata": {},
          "execution_count": 95
        }
      ]
    },
    {
      "cell_type": "code",
      "source": [
        "# 계수\n",
        "lin_reg2.coef_"
      ],
      "metadata": {
        "colab": {
          "base_uri": "https://localhost:8080/"
        },
        "id": "ln8lSYRXSuV2",
        "outputId": "a5275d78-8156-4cef-86bb-9b12f3a9b3a9"
      },
      "execution_count": 97,
      "outputs": [
        {
          "output_type": "execute_result",
          "data": {
            "text/plain": [
              "array([-21.55792498,   1.01433211])"
            ]
          },
          "metadata": {},
          "execution_count": 97
        }
      ]
    },
    {
      "cell_type": "code",
      "source": [
        "# 절편\n",
        "lin_reg2.intercept_"
      ],
      "metadata": {
        "colab": {
          "base_uri": "https://localhost:8080/"
        },
        "id": "GDmdI8EDS1j1",
        "outputId": "e1d9f218-300e-4706-a1c7-a71849864e5c"
      },
      "execution_count": 98,
      "outputs": [
        {
          "output_type": "execute_result",
          "data": {
            "text/plain": [
              "116.05021078278384"
            ]
          },
          "metadata": {},
          "execution_count": 98
        }
      ]
    },
    {
      "cell_type": "markdown",
      "source": [
        "$$\n",
        "\\hat{y} = 116 - 21.6 \\times x + 1.0 \\times x^2\n",
        "$$"
      ],
      "metadata": {
        "id": "J2L6xrM4Tjlb"
      }
    },
    {
      "cell_type": "code",
      "source": [
        "116 - 21.6 * 50 + 1.0 * 50 ** 2"
      ],
      "metadata": {
        "colab": {
          "base_uri": "https://localhost:8080/"
        },
        "id": "xESK517DS_Qv",
        "outputId": "7ac2a2e2-7994-4738-ebfb-66622c997dc2"
      },
      "execution_count": 103,
      "outputs": [
        {
          "output_type": "execute_result",
          "data": {
            "text/plain": [
              "1536.0"
            ]
          },
          "metadata": {},
          "execution_count": 103
        }
      ]
    },
    {
      "cell_type": "code",
      "source": [
        "116 - 21.6 * 8 + 1.0 * 8 ** 2"
      ],
      "metadata": {
        "colab": {
          "base_uri": "https://localhost:8080/"
        },
        "id": "rEtx_E2bT_c0",
        "outputId": "31481138-633d-448a-89ab-bcc4eda9040e"
      },
      "execution_count": 102,
      "outputs": [
        {
          "output_type": "execute_result",
          "data": {
            "text/plain": [
              "7.199999999999989"
            ]
          },
          "metadata": {},
          "execution_count": 102
        }
      ]
    },
    {
      "cell_type": "code",
      "source": [
        "# 훈련 셋의 예측값\n",
        "lin_reg2.predict(X_train_poly)"
      ],
      "metadata": {
        "colab": {
          "base_uri": "https://localhost:8080/"
        },
        "id": "q9Rxz5d2U2Vn",
        "outputId": "428773a3-ff41-43c2-b501-34344c5c2ca8"
      },
      "execution_count": 104,
      "outputs": [
        {
          "output_type": "execute_result",
          "data": {
            "text/plain": [
              "array([  83.18070434,  132.71260219,   67.61880901,   48.04150559,\n",
              "        654.5393253 ,  211.05965467,  876.66458663,  818.09027497,\n",
              "       1064.55950693,  132.71260219,   90.62455496,  132.71260219,\n",
              "        182.91530629,  290.29593158, 1064.55950693,  876.66458663,\n",
              "        182.91530629,  110.65424646,  290.29593158,  876.66458663,\n",
              "        500.20932803,  257.07992265,  680.52990177,   11.08663218,\n",
              "        149.3605064 ,   20.90606071,  707.0276443 ,  604.07967051,\n",
              "        332.83297906,  169.60388118,  818.09027497,  110.65424646,\n",
              "        156.79962213,  132.71260219, 1131.24847547,  144.50252913,\n",
              "         72.62352767,  707.0276443 ,  132.71260219,  228.92002253,\n",
              "        999.89920261,  579.6105922 ])"
            ]
          },
          "metadata": {},
          "execution_count": 104
        }
      ]
    },
    {
      "cell_type": "code",
      "source": [
        "# 훈련 셋의 실제값 (레이블)\n",
        "y_train"
      ],
      "metadata": {
        "colab": {
          "base_uri": "https://localhost:8080/"
        },
        "id": "fOmCh8qkU7vw",
        "outputId": "e5dfeca4-9792-4e74-b592-00d7ec712107"
      },
      "execution_count": 105,
      "outputs": [
        {
          "output_type": "execute_result",
          "data": {
            "text/plain": [
              "array([  85.,  135.,   78.,   70.,  700.,  180.,  850.,  820., 1000.,\n",
              "        120.,   85.,  130.,  225.,  260., 1100.,  900.,  145.,  115.,\n",
              "        265., 1015.,  514.,  218.,  685.,   32.,  145.,   40.,  690.,\n",
              "        840.,  300.,  170.,  650.,  110.,  150.,  110., 1000.,  150.,\n",
              "         80.,  700.,  120.,  197., 1100.,  556.])"
            ]
          },
          "metadata": {},
          "execution_count": 105
        }
      ]
    },
    {
      "cell_type": "code",
      "source": [
        "# 테스트 셋 예측값\n",
        "test_pred = lin_reg2.predict(X_test_poly)\n",
        "print(test_pred)"
      ],
      "metadata": {
        "colab": {
          "base_uri": "https://localhost:8080/"
        },
        "id": "lb6gJxBhVjMh",
        "outputId": "46f30d12-9116-4dff-9782-27e2b8ae7692"
      },
      "execution_count": 106,
      "outputs": [
        {
          "output_type": "stream",
          "name": "stdout",
          "text": [
            "[   6.5349146    56.6511646   290.29593158  117.05874344  144.50252913\n",
            "  876.66458663  382.21135986  199.55847561  818.09027497  110.65424646\n",
            " 1097.65040817   33.01314491  307.66468513  283.49043666]\n"
          ]
        }
      ]
    },
    {
      "cell_type": "code",
      "source": [
        "# 테스트 셋 실제값\n",
        "print(y_test)"
      ],
      "metadata": {
        "colab": {
          "base_uri": "https://localhost:8080/"
        },
        "id": "GyO_kz8oVsOO",
        "outputId": "c2359141-2002-49a6-fd43-c6abcbecd8a2"
      },
      "execution_count": 107,
      "outputs": [
        {
          "output_type": "stream",
          "name": "stdout",
          "text": [
            "[   5.9  100.   250.   130.   130.   820.   320.   188.   900.   125.\n",
            " 1000.    51.5  250.   300. ]\n"
          ]
        }
      ]
    },
    {
      "cell_type": "code",
      "source": [
        "# 훈련 셋 R^2 score \n",
        "lin_reg2.score(X_train_poly, y_train)"
      ],
      "metadata": {
        "colab": {
          "base_uri": "https://localhost:8080/"
        },
        "id": "uc1JxVB_SqDq",
        "outputId": "f62b307b-83b4-4a8d-e998-8e0773ff8f03"
      },
      "execution_count": 96,
      "outputs": [
        {
          "output_type": "execute_result",
          "data": {
            "text/plain": [
              "0.9706807451768623"
            ]
          },
          "metadata": {},
          "execution_count": 96
        }
      ]
    },
    {
      "cell_type": "code",
      "source": [
        "# 테스트 셋 R^2 score\n",
        "lin_reg2.score(X_test_poly, y_test)"
      ],
      "metadata": {
        "colab": {
          "base_uri": "https://localhost:8080/"
        },
        "id": "6KkbvfjLV2Fu",
        "outputId": "a0bd3ee5-62ca-4ab7-880e-da5786276538"
      },
      "execution_count": 108,
      "outputs": [
        {
          "output_type": "execute_result",
          "data": {
            "text/plain": [
              "0.9775935108325122"
            ]
          },
          "metadata": {},
          "execution_count": 108
        }
      ]
    },
    {
      "cell_type": "code",
      "source": [
        "# 훈련 셋, 테스트 셋, (다항) 선형 회귀 모델 시각화\n",
        "plt.scatter(X_train, y_train, alpha=0.5, label='train') # 훈련 셋\n",
        "plt.scatter(X_test, y_test, alpha=0.5, label='test')    # 테스트 셋\n",
        "\n",
        "# 2차 함수\n",
        "x = np.arange(5,50, 0.001)\n",
        "w0 = lin_reg2.intercept_    # 2차 함수의 y절편\n",
        "w1, w2 = lin_reg2.coef_     # 2차 함수의 1차항과 2차항의 계수들\n",
        "y = w0 + w1 * x + w2 * (x ** 2)\n",
        "plt.plot(x, y, color = 'darkred', linestyle='-', label='regression')\n",
        "\n",
        "plt.xlabel('Length (cm)')\n",
        "plt.ylabel('Weight (g)')\n",
        "plt.grid()\n",
        "plt.legend()\n",
        "plt.show()"
      ],
      "metadata": {
        "colab": {
          "base_uri": "https://localhost:8080/",
          "height": 279
        },
        "id": "V84FmCSBUOBs",
        "outputId": "c38a8479-bab3-4d93-be9f-50e58a7c8f5e"
      },
      "execution_count": 121,
      "outputs": [
        {
          "output_type": "display_data",
          "data": {
            "text/plain": [
              "<Figure size 432x288 with 1 Axes>"
            ],
            "image/png": "[encoded data removed]"
          },
          "metadata": {
            "needs_background": "light"
          }
        }
      ]
    },
    {
      "cell_type": "markdown",
      "source": [
        "# 행렬의 점곱(dot product), 내적(inner product), 행렬의 곱셉\n",
        "\n",
        "```\n",
        "(n, k) @ (k, m) = (n, m)\n",
        "```"
      ],
      "metadata": {
        "id": "jjeiiTH5eYH8"
      }
    },
    {
      "cell_type": "code",
      "source": [
        "A = np.arange(1,7).reshape((3, -1))\n",
        "print(A)    # (3, 2) shape"
      ],
      "metadata": {
        "colab": {
          "base_uri": "https://localhost:8080/"
        },
        "id": "cWkBEvVobj09",
        "outputId": "0e088a63-51df-4318-f54c-db51368bb97f"
      },
      "execution_count": 123,
      "outputs": [
        {
          "output_type": "stream",
          "name": "stdout",
          "text": [
            "[[1 2]\n",
            " [3 4]\n",
            " [5 6]]\n"
          ]
        }
      ]
    },
    {
      "cell_type": "code",
      "source": [
        "B = np.array([[0,1,2],\n",
        "             [1,2,3]])\n",
        "print(B)    # (2, 3) shape"
      ],
      "metadata": {
        "colab": {
          "base_uri": "https://localhost:8080/"
        },
        "id": "oImzGwiDfjrb",
        "outputId": "4b1372c3-aa2d-42ca-e28d-bd0d0035fa49"
      },
      "execution_count": 126,
      "outputs": [
        {
          "output_type": "stream",
          "name": "stdout",
          "text": [
            "[[0 1 2]\n",
            " [1 2 3]]\n"
          ]
        }
      ]
    },
    {
      "cell_type": "code",
      "source": [
        "# A @ B\n",
        "# A.dot(B)\n",
        "np.dot(A, B)"
      ],
      "metadata": {
        "colab": {
          "base_uri": "https://localhost:8080/"
        },
        "id": "1EdIfBIxf1GZ",
        "outputId": "650c2ddb-9e70-4d1e-d486-2dae9b630bed"
      },
      "execution_count": 129,
      "outputs": [
        {
          "output_type": "execute_result",
          "data": {
            "text/plain": [
              "array([[ 2,  5,  8],\n",
              "       [ 4, 11, 18],\n",
              "       [ 6, 17, 28]])"
            ]
          },
          "metadata": {},
          "execution_count": 129
        }
      ]
    },
    {
      "cell_type": "code",
      "source": [
        "B @ A"
      ],
      "metadata": {
        "colab": {
          "base_uri": "https://localhost:8080/"
        },
        "id": "hUdvebLNf6qo",
        "outputId": "82fd0fac-c747-463c-8e79-493724aa9606"
      },
      "execution_count": 130,
      "outputs": [
        {
          "output_type": "execute_result",
          "data": {
            "text/plain": [
              "array([[13, 16],\n",
              "       [22, 28]])"
            ]
          },
          "metadata": {},
          "execution_count": 130
        }
      ]
    },
    {
      "cell_type": "code",
      "source": [
        "A = np.arange(6).reshape((3,2))\n",
        "print(A)    # (3,2)"
      ],
      "metadata": {
        "colab": {
          "base_uri": "https://localhost:8080/"
        },
        "id": "TWj0kurviLBn",
        "outputId": "60899e95-6e89-43e3-f25d-e445c7276546"
      },
      "execution_count": 135,
      "outputs": [
        {
          "output_type": "stream",
          "name": "stdout",
          "text": [
            "[[0 1]\n",
            " [2 3]\n",
            " [4 5]]\n"
          ]
        }
      ]
    },
    {
      "cell_type": "code",
      "source": [
        "w = np.array([1,2])\n",
        "print(w)    # (2,)"
      ],
      "metadata": {
        "colab": {
          "base_uri": "https://localhost:8080/"
        },
        "id": "lXyUehO6jEe-",
        "outputId": "aedcf8d9-5c05-4a7a-c1b6-ef49f200cc09"
      },
      "execution_count": 136,
      "outputs": [
        {
          "output_type": "stream",
          "name": "stdout",
          "text": [
            "[1 2]\n"
          ]
        }
      ]
    },
    {
      "cell_type": "code",
      "source": [
        "A @ w"
      ],
      "metadata": {
        "colab": {
          "base_uri": "https://localhost:8080/"
        },
        "id": "s6cs2ejYjen8",
        "outputId": "fadec47e-d439-44f4-bdf3-8fead809687d"
      },
      "execution_count": 139,
      "outputs": [
        {
          "output_type": "execute_result",
          "data": {
            "text/plain": [
              "array([ 2,  8, 14])"
            ]
          },
          "metadata": {},
          "execution_count": 139
        }
      ]
    },
    {
      "cell_type": "code",
      "source": [
        "X_train_poly.shape, lin_reg2.coef_.shape"
      ],
      "metadata": {
        "colab": {
          "base_uri": "https://localhost:8080/"
        },
        "id": "YxjaTPQyjfcI",
        "outputId": "f956d750-93fc-4c6d-e7d5-fee8a264b0b2"
      },
      "execution_count": 141,
      "outputs": [
        {
          "output_type": "execute_result",
          "data": {
            "text/plain": [
              "((42, 2), (2,))"
            ]
          },
          "metadata": {},
          "execution_count": 141
        }
      ]
    },
    {
      "cell_type": "code",
      "source": [
        "X_test_poly.shape, lin_reg2.coef_.shape"
      ],
      "metadata": {
        "colab": {
          "base_uri": "https://localhost:8080/"
        },
        "id": "Nptj7R7JkF8Q",
        "outputId": "98502907-e504-45dd-b679-b3970e346e31"
      },
      "execution_count": 142,
      "outputs": [
        {
          "output_type": "execute_result",
          "data": {
            "text/plain": [
              "((14, 2), (2,))"
            ]
          },
          "metadata": {},
          "execution_count": 142
        }
      ]
    },
    {
      "cell_type": "code",
      "source": [
        "lin_reg2.intercept_ + X_test_poly @ lin_reg2.coef_ \n",
        "# w0 + w1 * x\n",
        "# 신경망에선 행렬 연산"
      ],
      "metadata": {
        "colab": {
          "base_uri": "https://localhost:8080/"
        },
        "id": "sihF9L0QkkzL",
        "outputId": "fe66561c-0f46-481d-c60d-0be9af079c86"
      },
      "execution_count": 145,
      "outputs": [
        {
          "output_type": "execute_result",
          "data": {
            "text/plain": [
              "array([   6.5349146 ,   56.6511646 ,  290.29593158,  117.05874344,\n",
              "        144.50252913,  876.66458663,  382.21135986,  199.55847561,\n",
              "        818.09027497,  110.65424646, 1097.65040817,   33.01314491,\n",
              "        307.66468513,  283.49043666])"
            ]
          },
          "metadata": {},
          "execution_count": 145
        }
      ]
    },
    {
      "cell_type": "code",
      "source": [
        "test_pred"
      ],
      "metadata": {
        "colab": {
          "base_uri": "https://localhost:8080/"
        },
        "id": "ggd56vbqkocj",
        "outputId": "b2aa5b15-164b-4a0e-aa52-bff8131c673f"
      },
      "execution_count": 147,
      "outputs": [
        {
          "output_type": "execute_result",
          "data": {
            "text/plain": [
              "array([   6.5349146 ,   56.6511646 ,  290.29593158,  117.05874344,\n",
              "        144.50252913,  876.66458663,  382.21135986,  199.55847561,\n",
              "        818.09027497,  110.65424646, 1097.65040817,   33.01314491,\n",
              "        307.66468513,  283.49043666])"
            ]
          },
          "metadata": {},
          "execution_count": 147
        }
      ]
    },
    {
      "cell_type": "markdown",
      "source": [
        "# PolynomialFeatures 변환기"
      ],
      "metadata": {
        "id": "0cZqjpOisygD"
      }
    },
    {
      "cell_type": "markdown",
      "source": [
        "scikit-learn 클래스\n",
        "\n",
        "* Estimator(추정기, 예측기) 클래스\n",
        "    * 머신 러닝 알고리즘을 구현한 클래스\n",
        "    * `fit, predict, score` 메소드를 가지고 있음.\n",
        "    * 예: `KNeighborsClassifier, KneighborsRegressor, Linear Regression, ...`\n",
        "\n",
        "\n",
        "* Transformer(변환기) 클래스\n",
        "    * 전처리(preprocessing) 과정에서 (모델을 훈련시키기 전에) 훈련 셋과 테스트 셋의 데이터들을 변환할 때 사용하는 클래스.\n",
        "    * `fit, transform, fit_transform` 메소드를 가지고 있음.-> fit_transform 은 훈련만\n",
        "    * `StandardScaler, MinMaxScaler, PolynomialFeatures, ...`\n",
        "\n"
      ],
      "metadata": {
        "id": "w16yMMTls7kJ"
      }
    },
    {
      "cell_type": "code",
      "source": [
        "# PolynomialFeatures 변환기 클래스의 인스턴스 생성\n",
        "poly = PolynomialFeatures(include_bias=False)   # 2차 다항식을 만들어주는 변환기 (degree의 기본값은 2)"
      ],
      "metadata": {
        "id": "4i_oylWdlDEj"
      },
      "execution_count": 149,
      "outputs": []
    },
    {
      "cell_type": "code",
      "source": [
        "# 훈련 셋 출력 \n",
        "X_train[:5, :]"
      ],
      "metadata": {
        "colab": {
          "base_uri": "https://localhost:8080/"
        },
        "id": "Adkus5e5wOLD",
        "outputId": "dc24839f-3956-4487-e1c5-ead8dc58250c"
      },
      "execution_count": 150,
      "outputs": [
        {
          "output_type": "execute_result",
          "data": {
            "text/plain": [
              "array([[19.6],\n",
              "       [22. ],\n",
              "       [18.7],\n",
              "       [17.4],\n",
              "       [36. ]])"
            ]
          },
          "metadata": {},
          "execution_count": 150
        }
      ]
    },
    {
      "cell_type": "code",
      "source": [
        "# 훈련 셋에서 2차항(Length ** 2)을 추가한 데이터 셋으로 변환\n",
        "X_train_2 = poly.fit_transform(X_train)\n",
        "X_train_2[:5, :]"
      ],
      "metadata": {
        "colab": {
          "base_uri": "https://localhost:8080/"
        },
        "id": "9SQAHCwGwXns",
        "outputId": "c595350e-4757-4bb2-8491-cd4eeea9d90f"
      },
      "execution_count": 151,
      "outputs": [
        {
          "output_type": "execute_result",
          "data": {
            "text/plain": [
              "array([[  19.6 ,  384.16],\n",
              "       [  22.  ,  484.  ],\n",
              "       [  18.7 ,  349.69],\n",
              "       [  17.4 ,  302.76],\n",
              "       [  36.  , 1296.  ]])"
            ]
          },
          "metadata": {},
          "execution_count": 151
        }
      ]
    },
    {
      "cell_type": "code",
      "source": [
        "# 테스트 셋에서 2차항을 추가\n",
        "X_test_2 = poly.transform(X_test)\n",
        "X_test_2[:5, :]"
      ],
      "metadata": {
        "colab": {
          "base_uri": "https://localhost:8080/"
        },
        "id": "RL8FaJbRw0lV",
        "outputId": "18898e51-f3e2-4df2-97e4-6a3e677d784a"
      },
      "execution_count": 152,
      "outputs": [
        {
          "output_type": "execute_result",
          "data": {
            "text/plain": [
              "array([[  8.4 ,  70.56],\n",
              "       [ 18.  , 324.  ],\n",
              "       [ 27.5 , 756.25],\n",
              "       [ 21.3 , 453.69],\n",
              "       [ 22.5 , 506.25]])"
            ]
          },
          "metadata": {},
          "execution_count": 152
        }
      ]
    },
    {
      "cell_type": "code",
      "source": [
        "# 3차 다항식까지 생성하는 변환기 객체 생성\n",
        "poly_3 = PolynomialFeatures(degree=3, include_bias=False)"
      ],
      "metadata": {
        "id": "OgJJvouOxTOr"
      },
      "execution_count": 153,
      "outputs": []
    },
    {
      "cell_type": "code",
      "source": [
        "X_train_3 = poly_3.fit_transform(X_train)\n",
        "X_train_3[:5, :]"
      ],
      "metadata": {
        "colab": {
          "base_uri": "https://localhost:8080/"
        },
        "id": "2nKgwQXPx5Pj",
        "outputId": "1cb86bf2-9986-4b92-e0ca-7585b36cf58c"
      },
      "execution_count": 154,
      "outputs": [
        {
          "output_type": "execute_result",
          "data": {
            "text/plain": [
              "array([[1.960000e+01, 3.841600e+02, 7.529536e+03],\n",
              "       [2.200000e+01, 4.840000e+02, 1.064800e+04],\n",
              "       [1.870000e+01, 3.496900e+02, 6.539203e+03],\n",
              "       [1.740000e+01, 3.027600e+02, 5.268024e+03],\n",
              "       [3.600000e+01, 1.296000e+03, 4.665600e+04]])"
            ]
          },
          "metadata": {},
          "execution_count": 154
        }
      ]
    },
    {
      "cell_type": "code",
      "source": [
        "X_test_3 = poly_3.transform(X_test)\n",
        "X_test_3"
      ],
      "metadata": {
        "colab": {
          "base_uri": "https://localhost:8080/"
        },
        "id": "YGgqTA9Dx_Ci",
        "outputId": "8e4b207c-6035-4366-a58c-2a967038d0cc"
      },
      "execution_count": 155,
      "outputs": [
        {
          "output_type": "execute_result",
          "data": {
            "text/plain": [
              "array([[8.4000000e+00, 7.0560000e+01, 5.9270400e+02],\n",
              "       [1.8000000e+01, 3.2400000e+02, 5.8320000e+03],\n",
              "       [2.7500000e+01, 7.5625000e+02, 2.0796875e+04],\n",
              "       [2.1300000e+01, 4.5369000e+02, 9.6635970e+03],\n",
              "       [2.2500000e+01, 5.0625000e+02, 1.1390625e+04],\n",
              "       [4.0000000e+01, 1.6000000e+03, 6.4000000e+04],\n",
              "       [3.0000000e+01, 9.0000000e+02, 2.7000000e+04],\n",
              "       [2.4600000e+01, 6.0516000e+02, 1.4886936e+04],\n",
              "       [3.9000000e+01, 1.5210000e+03, 5.9319000e+04],\n",
              "       [2.1000000e+01, 4.4100000e+02, 9.2610000e+03],\n",
              "       [4.3500000e+01, 1.8922500e+03, 8.2312875e+04],\n",
              "       [1.6200000e+01, 2.6244000e+02, 4.2515280e+03],\n",
              "       [2.8000000e+01, 7.8400000e+02, 2.1952000e+04],\n",
              "       [2.7300000e+01, 7.4529000e+02, 2.0346417e+04]])"
            ]
          },
          "metadata": {},
          "execution_count": 155
        }
      ]
    },
    {
      "cell_type": "markdown",
      "source": [
        "## PolynomialFeatures + StandardScaler\n",
        "\n",
        "* 다항 선형 회귀에서 차수(degree)가 커질 수록 고차항이 저차항에 비해서 예측값을 계산할 때 더 큰 영향을 미치게 됨.\n",
        "* 다항 선형 회귀에서 고차항을 포함시킬 때는 일반적으로 scaling(표준화)을 함께 사용하는 경우가 많음. "
      ],
      "metadata": {
        "id": "JxcyT6tM1GbF"
      }
    },
    {
      "cell_type": "code",
      "source": [
        "# 3차항까지 추가 -> 표준화\n",
        "poly = PolynomialFeatures(degree=3, include_bias=False) # 다차항 추가 변환기\n",
        "scaler = StandardScaler()   # 표준화 변환기"
      ],
      "metadata": {
        "id": "mhk-khbMzEY3"
      },
      "execution_count": 156,
      "outputs": []
    },
    {
      "cell_type": "code",
      "source": [
        "# 훈련 셋 변환\n",
        "X_tr_poly = poly.fit_transform(X_train) # 2차항, 3차항을 추가\n",
        "X_tr_poly_sc = scaler.fit_transform(X_tr_poly)  # 컬럼 별 평균과 표준편차를 찾아서 스케일 변환"
      ],
      "metadata": {
        "id": "-0j6SGJ-2GKv"
      },
      "execution_count": 158,
      "outputs": []
    },
    {
      "cell_type": "code",
      "source": [
        "X_tr_poly_sc[:5, :]"
      ],
      "metadata": {
        "colab": {
          "base_uri": "https://localhost:8080/"
        },
        "id": "73uyK0Sw2V3o",
        "outputId": "14e1a5fc-f528-45f5-9ced-910012aa2b57"
      },
      "execution_count": 159,
      "outputs": [
        {
          "output_type": "execute_result",
          "data": {
            "text/plain": [
              "array([[-1.01339619, -0.9549757 , -0.88757122],\n",
              "       [-0.73842893, -0.76472563, -0.76291014],\n",
              "       [-1.11650891, -1.02065999, -0.92715994],\n",
              "       [-1.26544951, -1.11008743, -0.97797552],\n",
              "       [ 0.86554673,  0.78258063,  0.67651527]])"
            ]
          },
          "metadata": {},
          "execution_count": 159
        }
      ]
    },
    {
      "cell_type": "code",
      "source": [
        "# 테스트 셋 변환\n",
        "X_te_poly = poly.transform(X_test)\n",
        "X_te_poly_sc = scaler.transform(X_te_poly)"
      ],
      "metadata": {
        "id": "XW2yKSop25SY"
      },
      "execution_count": 160,
      "outputs": []
    },
    {
      "cell_type": "code",
      "source": [
        "X_te_poly_sc[:5, :]"
      ],
      "metadata": {
        "colab": {
          "base_uri": "https://localhost:8080/"
        },
        "id": "U-poNTZT3Xvu",
        "outputId": "af608a88-46f5-4f91-bd0b-d466d593ed8f"
      },
      "execution_count": 161,
      "outputs": [
        {
          "output_type": "execute_result",
          "data": {
            "text/plain": [
              "array([[-2.29657672, -1.55255604, -1.16487216],\n",
              "       [-1.1967077 , -1.06961356, -0.95543049],\n",
              "       [-0.10829564, -0.24593976, -0.35720728],\n",
              "       [-0.81862772, -0.82248284, -0.8022618 ],\n",
              "       [-0.68114409, -0.72232715, -0.73322359]])"
            ]
          },
          "metadata": {},
          "execution_count": 161
        }
      ]
    },
    {
      "cell_type": "code",
      "source": [
        "lin_reg = LinearRegression()    # 모델 생성\n",
        "lin_reg.fit(X_tr_poly_sc, y_train)  # 모델 훈련\n",
        "train_pred = lin_reg.predict(X_tr_poly_sc)  # 예측\n",
        "print(train_pred)"
      ],
      "metadata": {
        "colab": {
          "base_uri": "https://localhost:8080/"
        },
        "id": "ZkYT5Bzv3aAm",
        "outputId": "be4d8560-7f02-4304-82b1-20140f7d4db7"
      },
      "execution_count": 165,
      "outputs": [
        {
          "output_type": "stream",
          "name": "stdout",
          "text": [
            "[  76.11208213  121.32671907   64.43503022   53.03736922  676.51776072\n",
            "  203.64006744  883.41268054  831.17507632 1039.71479927  121.32671907\n",
            "   82.25658755  121.32671907  173.27607317  290.93930643 1039.71479927\n",
            "  883.41268054  173.27607317  100.09367224  290.93930643  883.41268054\n",
            "  519.14231311  254.17726522  701.95141826   59.18009181  138.11611752\n",
            "   50.17607368  727.55145991  626.2376762   338.00950138  159.158376\n",
            "  831.17507632  100.09367224  145.77957155  121.32671907 1091.09141922\n",
            "  133.16167938   67.9916215   727.55145991  121.32671907  223.16157937\n",
            "  987.85869851  601.43528834]\n"
          ]
        }
      ]
    },
    {
      "cell_type": "code",
      "source": [
        "lin_reg.score(X_tr_poly_sc, y_train)    # 훈련 셋 결과 평가"
      ],
      "metadata": {
        "colab": {
          "base_uri": "https://localhost:8080/"
        },
        "id": "PFjecKg239C5",
        "outputId": "3ca093f2-50bd-4377-b9ea-d77a8bbf4f09"
      },
      "execution_count": 166,
      "outputs": [
        {
          "output_type": "execute_result",
          "data": {
            "text/plain": [
              "0.9729178478354534"
            ]
          },
          "metadata": {},
          "execution_count": 166
        }
      ]
    },
    {
      "cell_type": "code",
      "source": [
        "lin_reg.score(X_te_poly_sc, y_test) # 테스트 셋 결과 평가"
      ],
      "metadata": {
        "colab": {
          "base_uri": "https://localhost:8080/"
        },
        "id": "3Od5Pfm54QZx",
        "outputId": "04d6e403-166d-43af-8d38-4afdf5d4ecde"
      },
      "execution_count": 167,
      "outputs": [
        {
          "output_type": "execute_result",
          "data": {
            "text/plain": [
              "0.9588363727422972"
            ]
          },
          "metadata": {},
          "execution_count": 167
        }
      ]
    },
    {
      "cell_type": "code",
      "source": [
        ""
      ],
      "metadata": {
        "id": "r8TNjv1l4shU"
      },
      "execution_count": null,
      "outputs": []
    }
  ]
}